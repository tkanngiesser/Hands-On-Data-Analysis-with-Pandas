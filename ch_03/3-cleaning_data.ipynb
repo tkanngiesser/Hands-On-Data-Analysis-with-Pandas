{
 "cells": [
  {
   "cell_type": "markdown",
   "metadata": {},
   "source": [
    "# Cleaning Data\n",
    "\n",
    "## About the data\n",
    "In this notebook, we will using daily temperature data from the [National Centers for Environmental Information (NCEI) API](https://www.ncdc.noaa.gov/cdo-web/webservices/v2). We will use the Global Historical Climatology Network - Daily (GHCND) data set; see the documentation [here](https://www1.ncdc.noaa.gov/pub/data/cdo/documentation/GHCND_documentation.pdf).\n",
    "\n",
    "This data was collected for the LaGuardia Airport station in New York City for October 2018. It contains:\n",
    "- the daily minimum temperature (`TMIN`)\n",
    "- the daily maximum temperature (`TMAX`)\n",
    "- the daily average temperature (`TAVG`)\n",
    "\n",
    "*Note: The NCEI is part of the National Oceanic and Atmospheric Administration (NOAA) and, as you can see from the URL for the API, this resource was created when the NCEI was called the NCDC. Should the URL for this resource change in the future, you can search for the NCEI weather API to find the updated one.*\n",
    "\n",
    "In addition, we will be using S&P 500 stock market data for the S&P 500 and data for bitcoin for 2017 through 2018. Both were obtained using the [`stock_analysis` package](https://github.com/stefmolin/stock-analysis) we will build in [chapter 7](https://github.com/stefmolin/Hands-On-Data-Analysis-with-Pandas/tree/master/ch_07).\n",
    "\n",
    "## Setup\n",
    "We need to import `pandas` and read in our data to get started:"
   ]
  },
  {
   "cell_type": "code",
   "execution_count": 36,
   "metadata": {},
   "outputs": [
    {
     "data": {
      "text/html": [
       "<div>\n",
       "<style scoped>\n",
       "    .dataframe tbody tr th:only-of-type {\n",
       "        vertical-align: middle;\n",
       "    }\n",
       "\n",
       "    .dataframe tbody tr th {\n",
       "        vertical-align: top;\n",
       "    }\n",
       "\n",
       "    .dataframe thead th {\n",
       "        text-align: right;\n",
       "    }\n",
       "</style>\n",
       "<table border=\"1\" class=\"dataframe\">\n",
       "  <thead>\n",
       "    <tr style=\"text-align: right;\">\n",
       "      <th></th>\n",
       "      <th>attributes</th>\n",
       "      <th>datatype</th>\n",
       "      <th>date</th>\n",
       "      <th>station</th>\n",
       "      <th>value</th>\n",
       "    </tr>\n",
       "  </thead>\n",
       "  <tbody>\n",
       "    <tr>\n",
       "      <th>0</th>\n",
       "      <td>H,,S,</td>\n",
       "      <td>TAVG</td>\n",
       "      <td>2018-10-01T00:00:00</td>\n",
       "      <td>GHCND:USW00014732</td>\n",
       "      <td>21.2</td>\n",
       "    </tr>\n",
       "    <tr>\n",
       "      <th>1</th>\n",
       "      <td>,,W,2400</td>\n",
       "      <td>TMAX</td>\n",
       "      <td>2018-10-01T00:00:00</td>\n",
       "      <td>GHCND:USW00014732</td>\n",
       "      <td>25.6</td>\n",
       "    </tr>\n",
       "    <tr>\n",
       "      <th>2</th>\n",
       "      <td>,,W,2400</td>\n",
       "      <td>TMIN</td>\n",
       "      <td>2018-10-01T00:00:00</td>\n",
       "      <td>GHCND:USW00014732</td>\n",
       "      <td>18.3</td>\n",
       "    </tr>\n",
       "    <tr>\n",
       "      <th>3</th>\n",
       "      <td>H,,S,</td>\n",
       "      <td>TAVG</td>\n",
       "      <td>2018-10-02T00:00:00</td>\n",
       "      <td>GHCND:USW00014732</td>\n",
       "      <td>22.7</td>\n",
       "    </tr>\n",
       "    <tr>\n",
       "      <th>4</th>\n",
       "      <td>,,W,2400</td>\n",
       "      <td>TMAX</td>\n",
       "      <td>2018-10-02T00:00:00</td>\n",
       "      <td>GHCND:USW00014732</td>\n",
       "      <td>26.1</td>\n",
       "    </tr>\n",
       "  </tbody>\n",
       "</table>\n",
       "</div>"
      ],
      "text/plain": [
       "  attributes datatype                 date            station  value\n",
       "0      H,,S,     TAVG  2018-10-01T00:00:00  GHCND:USW00014732   21.2\n",
       "1   ,,W,2400     TMAX  2018-10-01T00:00:00  GHCND:USW00014732   25.6\n",
       "2   ,,W,2400     TMIN  2018-10-01T00:00:00  GHCND:USW00014732   18.3\n",
       "3      H,,S,     TAVG  2018-10-02T00:00:00  GHCND:USW00014732   22.7\n",
       "4   ,,W,2400     TMAX  2018-10-02T00:00:00  GHCND:USW00014732   26.1"
      ]
     },
     "execution_count": 36,
     "metadata": {},
     "output_type": "execute_result"
    }
   ],
   "source": [
    "import pandas as pd\n",
    "\n",
    "df = pd.read_csv('data/nyc_temperatures.csv')\n",
    "df.head()"
   ]
  },
  {
   "cell_type": "markdown",
   "metadata": {},
   "source": [
    "## Renaming Columns\n",
    "We start out with the following columns:"
   ]
  },
  {
   "cell_type": "code",
   "execution_count": 37,
   "metadata": {},
   "outputs": [
    {
     "data": {
      "text/plain": [
       "Index(['attributes', 'datatype', 'date', 'station', 'value'], dtype='object')"
      ]
     },
     "execution_count": 37,
     "metadata": {},
     "output_type": "execute_result"
    }
   ],
   "source": [
    "df.columns"
   ]
  },
  {
   "cell_type": "markdown",
   "metadata": {},
   "source": [
    "We want to rename the `value` column to indicate it contains the temperature in Celsius and the `attributes` column to say `flags` since each value in the comma-delimited string is a different flag about the data collection. For this task, we use the `rename()` method and pass in a dictionary mapping the column names to their new names. We pass `inplace=True` to change our original dataframe instead of getting a new one back:"
   ]
  },
  {
   "cell_type": "code",
   "execution_count": 38,
   "metadata": {},
   "outputs": [],
   "source": [
    "df.rename(\n",
    "    columns={\n",
    "        'value' : 'temp_C',\n",
    "        'attributes' : 'flags'\n",
    "    }, inplace=True\n",
    ")"
   ]
  },
  {
   "cell_type": "markdown",
   "metadata": {},
   "source": [
    "Those columns have been successfully renamed:"
   ]
  },
  {
   "cell_type": "code",
   "execution_count": 39,
   "metadata": {},
   "outputs": [
    {
     "data": {
      "text/plain": [
       "Index(['flags', 'datatype', 'date', 'station', 'temp_C'], dtype='object')"
      ]
     },
     "execution_count": 39,
     "metadata": {},
     "output_type": "execute_result"
    }
   ],
   "source": [
    "df.columns"
   ]
  },
  {
   "cell_type": "markdown",
   "metadata": {},
   "source": [
    "We can also perform string operations on the column names with `rename()`:"
   ]
  },
  {
   "cell_type": "code",
   "execution_count": 40,
   "metadata": {},
   "outputs": [
    {
     "data": {
      "text/plain": [
       "Index(['FLAGS', 'DATATYPE', 'DATE', 'STATION', 'TEMP_C'], dtype='object')"
      ]
     },
     "execution_count": 40,
     "metadata": {},
     "output_type": "execute_result"
    }
   ],
   "source": [
    "df.rename(str.upper, axis='columns').columns"
   ]
  },
  {
   "cell_type": "markdown",
   "metadata": {},
   "source": [
    "## Type Conversion\n",
    "The `date` column is not currently being stored as a `datetime`:"
   ]
  },
  {
   "cell_type": "code",
   "execution_count": 41,
   "metadata": {},
   "outputs": [
    {
     "data": {
      "text/plain": [
       "flags        object\n",
       "datatype     object\n",
       "date         object\n",
       "station      object\n",
       "temp_C      float64\n",
       "dtype: object"
      ]
     },
     "execution_count": 41,
     "metadata": {},
     "output_type": "execute_result"
    }
   ],
   "source": [
    "df.dtypes"
   ]
  },
  {
   "cell_type": "markdown",
   "metadata": {},
   "source": [
    "Let's perform the conversion with `pd.to_datetime()`:"
   ]
  },
  {
   "cell_type": "code",
   "execution_count": 42,
   "metadata": {},
   "outputs": [
    {
     "data": {
      "text/plain": [
       "flags               object\n",
       "datatype            object\n",
       "date        datetime64[ns]\n",
       "station             object\n",
       "temp_C             float64\n",
       "dtype: object"
      ]
     },
     "execution_count": 42,
     "metadata": {},
     "output_type": "execute_result"
    }
   ],
   "source": [
    "df.loc[:,'date'] = pd.to_datetime(df.date)\n",
    "df.dtypes"
   ]
  },
  {
   "cell_type": "markdown",
   "metadata": {},
   "source": [
    "Now we get useful information when we use `describe()` on this column:"
   ]
  },
  {
   "cell_type": "code",
   "execution_count": 43,
   "metadata": {},
   "outputs": [
    {
     "data": {
      "text/plain": [
       "count                      93\n",
       "unique                     31\n",
       "top       2018-10-01 00:00:00\n",
       "freq                        3\n",
       "first     2018-10-01 00:00:00\n",
       "last      2018-10-31 00:00:00\n",
       "Name: date, dtype: object"
      ]
     },
     "execution_count": 43,
     "metadata": {},
     "output_type": "execute_result"
    }
   ],
   "source": [
    "df.date.describe()"
   ]
  },
  {
   "cell_type": "markdown",
   "metadata": {},
   "source": [
    "We can use `tz_localize()` on a `DatetimeIndex`/`PeriodIndex` to convert to a desired timezone:"
   ]
  },
  {
   "cell_type": "code",
   "execution_count": 44,
   "metadata": {},
   "outputs": [
    {
     "data": {
      "text/plain": [
       "DatetimeIndex(['2018-10-25 00:00:00-05:00', '2018-10-26 00:00:00-05:00'], dtype='datetime64[ns, EST]', freq='D')"
      ]
     },
     "execution_count": 44,
     "metadata": {},
     "output_type": "execute_result"
    }
   ],
   "source": [
    "pd.date_range(start='2018-10-25', periods=2, freq='D').tz_localize('EST')"
   ]
  },
  {
   "cell_type": "markdown",
   "metadata": {},
   "source": [
    "This also works with a `Series`/`DataFrame` with one of the aforementioned as its `Index`. Let's read in the CSV again for this example and set the `date` column to be the index and stored as a datetime:"
   ]
  },
  {
   "cell_type": "code",
   "execution_count": 45,
   "metadata": {},
   "outputs": [
    {
     "data": {
      "text/html": [
       "<div>\n",
       "<style scoped>\n",
       "    .dataframe tbody tr th:only-of-type {\n",
       "        vertical-align: middle;\n",
       "    }\n",
       "\n",
       "    .dataframe tbody tr th {\n",
       "        vertical-align: top;\n",
       "    }\n",
       "\n",
       "    .dataframe thead th {\n",
       "        text-align: right;\n",
       "    }\n",
       "</style>\n",
       "<table border=\"1\" class=\"dataframe\">\n",
       "  <thead>\n",
       "    <tr style=\"text-align: right;\">\n",
       "      <th></th>\n",
       "      <th>attributes</th>\n",
       "      <th>datatype</th>\n",
       "      <th>station</th>\n",
       "      <th>value</th>\n",
       "    </tr>\n",
       "    <tr>\n",
       "      <th>date</th>\n",
       "      <th></th>\n",
       "      <th></th>\n",
       "      <th></th>\n",
       "      <th></th>\n",
       "    </tr>\n",
       "  </thead>\n",
       "  <tbody>\n",
       "    <tr>\n",
       "      <th>2018-10-01 00:00:00-05:00</th>\n",
       "      <td>H,,S,</td>\n",
       "      <td>TAVG</td>\n",
       "      <td>GHCND:USW00014732</td>\n",
       "      <td>21.2</td>\n",
       "    </tr>\n",
       "    <tr>\n",
       "      <th>2018-10-01 00:00:00-05:00</th>\n",
       "      <td>,,W,2400</td>\n",
       "      <td>TMAX</td>\n",
       "      <td>GHCND:USW00014732</td>\n",
       "      <td>25.6</td>\n",
       "    </tr>\n",
       "    <tr>\n",
       "      <th>2018-10-01 00:00:00-05:00</th>\n",
       "      <td>,,W,2400</td>\n",
       "      <td>TMIN</td>\n",
       "      <td>GHCND:USW00014732</td>\n",
       "      <td>18.3</td>\n",
       "    </tr>\n",
       "    <tr>\n",
       "      <th>2018-10-02 00:00:00-05:00</th>\n",
       "      <td>H,,S,</td>\n",
       "      <td>TAVG</td>\n",
       "      <td>GHCND:USW00014732</td>\n",
       "      <td>22.7</td>\n",
       "    </tr>\n",
       "    <tr>\n",
       "      <th>2018-10-02 00:00:00-05:00</th>\n",
       "      <td>,,W,2400</td>\n",
       "      <td>TMAX</td>\n",
       "      <td>GHCND:USW00014732</td>\n",
       "      <td>26.1</td>\n",
       "    </tr>\n",
       "  </tbody>\n",
       "</table>\n",
       "</div>"
      ],
      "text/plain": [
       "                          attributes datatype            station  value\n",
       "date                                                                   \n",
       "2018-10-01 00:00:00-05:00      H,,S,     TAVG  GHCND:USW00014732   21.2\n",
       "2018-10-01 00:00:00-05:00   ,,W,2400     TMAX  GHCND:USW00014732   25.6\n",
       "2018-10-01 00:00:00-05:00   ,,W,2400     TMIN  GHCND:USW00014732   18.3\n",
       "2018-10-02 00:00:00-05:00      H,,S,     TAVG  GHCND:USW00014732   22.7\n",
       "2018-10-02 00:00:00-05:00   ,,W,2400     TMAX  GHCND:USW00014732   26.1"
      ]
     },
     "execution_count": 45,
     "metadata": {},
     "output_type": "execute_result"
    }
   ],
   "source": [
    "eastern = pd.read_csv(\n",
    "    'data/nyc_temperatures.csv', index_col='date', parse_dates=True\n",
    ").tz_localize('EST')\n",
    "eastern.head()"
   ]
  },
  {
   "cell_type": "markdown",
   "metadata": {},
   "source": [
    "We can use `tz.convert()` to convert to another timezone from there. If we convert the Eastern datetimes to UTC, they will now be at 5 AM, since `pandas` will use the offsets to convert:"
   ]
  },
  {
   "cell_type": "code",
   "execution_count": 46,
   "metadata": {},
   "outputs": [
    {
     "data": {
      "text/html": [
       "<div>\n",
       "<style scoped>\n",
       "    .dataframe tbody tr th:only-of-type {\n",
       "        vertical-align: middle;\n",
       "    }\n",
       "\n",
       "    .dataframe tbody tr th {\n",
       "        vertical-align: top;\n",
       "    }\n",
       "\n",
       "    .dataframe thead th {\n",
       "        text-align: right;\n",
       "    }\n",
       "</style>\n",
       "<table border=\"1\" class=\"dataframe\">\n",
       "  <thead>\n",
       "    <tr style=\"text-align: right;\">\n",
       "      <th></th>\n",
       "      <th>attributes</th>\n",
       "      <th>datatype</th>\n",
       "      <th>station</th>\n",
       "      <th>value</th>\n",
       "    </tr>\n",
       "    <tr>\n",
       "      <th>date</th>\n",
       "      <th></th>\n",
       "      <th></th>\n",
       "      <th></th>\n",
       "      <th></th>\n",
       "    </tr>\n",
       "  </thead>\n",
       "  <tbody>\n",
       "    <tr>\n",
       "      <th>2018-10-01 05:00:00+00:00</th>\n",
       "      <td>H,,S,</td>\n",
       "      <td>TAVG</td>\n",
       "      <td>GHCND:USW00014732</td>\n",
       "      <td>21.2</td>\n",
       "    </tr>\n",
       "    <tr>\n",
       "      <th>2018-10-01 05:00:00+00:00</th>\n",
       "      <td>,,W,2400</td>\n",
       "      <td>TMAX</td>\n",
       "      <td>GHCND:USW00014732</td>\n",
       "      <td>25.6</td>\n",
       "    </tr>\n",
       "    <tr>\n",
       "      <th>2018-10-01 05:00:00+00:00</th>\n",
       "      <td>,,W,2400</td>\n",
       "      <td>TMIN</td>\n",
       "      <td>GHCND:USW00014732</td>\n",
       "      <td>18.3</td>\n",
       "    </tr>\n",
       "    <tr>\n",
       "      <th>2018-10-02 05:00:00+00:00</th>\n",
       "      <td>H,,S,</td>\n",
       "      <td>TAVG</td>\n",
       "      <td>GHCND:USW00014732</td>\n",
       "      <td>22.7</td>\n",
       "    </tr>\n",
       "    <tr>\n",
       "      <th>2018-10-02 05:00:00+00:00</th>\n",
       "      <td>,,W,2400</td>\n",
       "      <td>TMAX</td>\n",
       "      <td>GHCND:USW00014732</td>\n",
       "      <td>26.1</td>\n",
       "    </tr>\n",
       "  </tbody>\n",
       "</table>\n",
       "</div>"
      ],
      "text/plain": [
       "                          attributes datatype            station  value\n",
       "date                                                                   \n",
       "2018-10-01 05:00:00+00:00      H,,S,     TAVG  GHCND:USW00014732   21.2\n",
       "2018-10-01 05:00:00+00:00   ,,W,2400     TMAX  GHCND:USW00014732   25.6\n",
       "2018-10-01 05:00:00+00:00   ,,W,2400     TMIN  GHCND:USW00014732   18.3\n",
       "2018-10-02 05:00:00+00:00      H,,S,     TAVG  GHCND:USW00014732   22.7\n",
       "2018-10-02 05:00:00+00:00   ,,W,2400     TMAX  GHCND:USW00014732   26.1"
      ]
     },
     "execution_count": 46,
     "metadata": {},
     "output_type": "execute_result"
    }
   ],
   "source": [
    "eastern.tz_convert('UTC').head()"
   ]
  },
  {
   "cell_type": "markdown",
   "metadata": {},
   "source": [
    "We can change the period of the index as well. We could change the period to be monthly to make it easier to aggregate later. (Aggregation will be discussed in [chapter 4](https://github.com/stefmolin/Hands-On-Data-Analysis-with-Pandas/tree/master/ch_04))."
   ]
  },
  {
   "cell_type": "code",
   "execution_count": 47,
   "metadata": {},
   "outputs": [
    {
     "name": "stderr",
     "output_type": "stream",
     "text": [
      "/Users/tinokanngiesser/anaconda3/lib/python3.7/site-packages/pandas/core/arrays/datetimes.py:1172: UserWarning: Converting to PeriodArray/Index representation will drop timezone information.\n",
      "  \"will drop timezone information.\", UserWarning)\n"
     ]
    },
    {
     "data": {
      "text/plain": [
       "PeriodIndex(['2018-10', '2018-10', '2018-10', '2018-10', '2018-10', '2018-10',\n",
       "             '2018-10', '2018-10', '2018-10', '2018-10', '2018-10', '2018-10',\n",
       "             '2018-10', '2018-10', '2018-10', '2018-10', '2018-10', '2018-10',\n",
       "             '2018-10', '2018-10', '2018-10', '2018-10', '2018-10', '2018-10',\n",
       "             '2018-10', '2018-10', '2018-10', '2018-10', '2018-10', '2018-10',\n",
       "             '2018-10', '2018-10', '2018-10', '2018-10', '2018-10', '2018-10',\n",
       "             '2018-10', '2018-10', '2018-10', '2018-10', '2018-10', '2018-10',\n",
       "             '2018-10', '2018-10', '2018-10', '2018-10', '2018-10', '2018-10',\n",
       "             '2018-10', '2018-10', '2018-10', '2018-10', '2018-10', '2018-10',\n",
       "             '2018-10', '2018-10', '2018-10', '2018-10', '2018-10', '2018-10',\n",
       "             '2018-10', '2018-10', '2018-10', '2018-10', '2018-10', '2018-10',\n",
       "             '2018-10', '2018-10', '2018-10', '2018-10', '2018-10', '2018-10',\n",
       "             '2018-10', '2018-10', '2018-10', '2018-10', '2018-10', '2018-10',\n",
       "             '2018-10', '2018-10', '2018-10', '2018-10', '2018-10', '2018-10',\n",
       "             '2018-10', '2018-10', '2018-10', '2018-10', '2018-10', '2018-10',\n",
       "             '2018-10', '2018-10', '2018-10'],\n",
       "            dtype='period[M]', name='date', freq='M')"
      ]
     },
     "execution_count": 47,
     "metadata": {},
     "output_type": "execute_result"
    }
   ],
   "source": [
    "eastern.to_period('M').index"
   ]
  },
  {
   "cell_type": "markdown",
   "metadata": {},
   "source": [
    "We now get a `PeriodIndex` which we can change back into a `DatetimeIndex` with `pd.to_timestamp()`:"
   ]
  },
  {
   "cell_type": "code",
   "execution_count": 48,
   "metadata": {},
   "outputs": [
    {
     "data": {
      "text/plain": [
       "DatetimeIndex(['2018-10-01', '2018-10-01', '2018-10-01', '2018-10-01',\n",
       "               '2018-10-01', '2018-10-01', '2018-10-01', '2018-10-01',\n",
       "               '2018-10-01', '2018-10-01', '2018-10-01', '2018-10-01',\n",
       "               '2018-10-01', '2018-10-01', '2018-10-01', '2018-10-01',\n",
       "               '2018-10-01', '2018-10-01', '2018-10-01', '2018-10-01',\n",
       "               '2018-10-01', '2018-10-01', '2018-10-01', '2018-10-01',\n",
       "               '2018-10-01', '2018-10-01', '2018-10-01', '2018-10-01',\n",
       "               '2018-10-01', '2018-10-01', '2018-10-01', '2018-10-01',\n",
       "               '2018-10-01', '2018-10-01', '2018-10-01', '2018-10-01',\n",
       "               '2018-10-01', '2018-10-01', '2018-10-01', '2018-10-01',\n",
       "               '2018-10-01', '2018-10-01', '2018-10-01', '2018-10-01',\n",
       "               '2018-10-01', '2018-10-01', '2018-10-01', '2018-10-01',\n",
       "               '2018-10-01', '2018-10-01', '2018-10-01', '2018-10-01',\n",
       "               '2018-10-01', '2018-10-01', '2018-10-01', '2018-10-01',\n",
       "               '2018-10-01', '2018-10-01', '2018-10-01', '2018-10-01',\n",
       "               '2018-10-01', '2018-10-01', '2018-10-01', '2018-10-01',\n",
       "               '2018-10-01', '2018-10-01', '2018-10-01', '2018-10-01',\n",
       "               '2018-10-01', '2018-10-01', '2018-10-01', '2018-10-01',\n",
       "               '2018-10-01', '2018-10-01', '2018-10-01', '2018-10-01',\n",
       "               '2018-10-01', '2018-10-01', '2018-10-01', '2018-10-01',\n",
       "               '2018-10-01', '2018-10-01', '2018-10-01', '2018-10-01',\n",
       "               '2018-10-01', '2018-10-01', '2018-10-01', '2018-10-01',\n",
       "               '2018-10-01', '2018-10-01', '2018-10-01', '2018-10-01',\n",
       "               '2018-10-01'],\n",
       "              dtype='datetime64[ns]', name='date', freq=None)"
      ]
     },
     "execution_count": 48,
     "metadata": {},
     "output_type": "execute_result"
    }
   ],
   "source": [
    "eastern.to_period('M').to_timestamp().index"
   ]
  },
  {
   "cell_type": "markdown",
   "metadata": {},
   "source": [
    "We can use the `assign()` method for working with multiple columns at once (or creating new ones). Since our `date` column has already been converted, we need to read in the data again:"
   ]
  },
  {
   "cell_type": "code",
   "execution_count": 49,
   "metadata": {},
   "outputs": [
    {
     "data": {
      "text/plain": [
       "flags               object\n",
       "datatype            object\n",
       "date        datetime64[ns]\n",
       "station             object\n",
       "temp_C             float64\n",
       "temp_F             float64\n",
       "dtype: object"
      ]
     },
     "execution_count": 49,
     "metadata": {},
     "output_type": "execute_result"
    }
   ],
   "source": [
    "df = pd.read_csv('data/nyc_temperatures.csv').rename(\n",
    "    columns={\n",
    "        'value' : 'temp_C',\n",
    "        'attributes' : 'flags'\n",
    "    }\n",
    ")\n",
    "\n",
    "new_df = df.assign(\n",
    "    date=pd.to_datetime(df.date),\n",
    "    temp_F=(df.temp_C * 9/5) + 32\n",
    ")\n",
    "new_df.dtypes"
   ]
  },
  {
   "cell_type": "markdown",
   "metadata": {},
   "source": [
    "The `date` column now has datetimes and the `temp_F` column was added:"
   ]
  },
  {
   "cell_type": "code",
   "execution_count": 50,
   "metadata": {},
   "outputs": [
    {
     "data": {
      "text/html": [
       "<div>\n",
       "<style scoped>\n",
       "    .dataframe tbody tr th:only-of-type {\n",
       "        vertical-align: middle;\n",
       "    }\n",
       "\n",
       "    .dataframe tbody tr th {\n",
       "        vertical-align: top;\n",
       "    }\n",
       "\n",
       "    .dataframe thead th {\n",
       "        text-align: right;\n",
       "    }\n",
       "</style>\n",
       "<table border=\"1\" class=\"dataframe\">\n",
       "  <thead>\n",
       "    <tr style=\"text-align: right;\">\n",
       "      <th></th>\n",
       "      <th>flags</th>\n",
       "      <th>datatype</th>\n",
       "      <th>date</th>\n",
       "      <th>station</th>\n",
       "      <th>temp_C</th>\n",
       "      <th>temp_F</th>\n",
       "    </tr>\n",
       "  </thead>\n",
       "  <tbody>\n",
       "    <tr>\n",
       "      <th>0</th>\n",
       "      <td>H,,S,</td>\n",
       "      <td>TAVG</td>\n",
       "      <td>2018-10-01</td>\n",
       "      <td>GHCND:USW00014732</td>\n",
       "      <td>21.2</td>\n",
       "      <td>70.16</td>\n",
       "    </tr>\n",
       "    <tr>\n",
       "      <th>1</th>\n",
       "      <td>,,W,2400</td>\n",
       "      <td>TMAX</td>\n",
       "      <td>2018-10-01</td>\n",
       "      <td>GHCND:USW00014732</td>\n",
       "      <td>25.6</td>\n",
       "      <td>78.08</td>\n",
       "    </tr>\n",
       "    <tr>\n",
       "      <th>2</th>\n",
       "      <td>,,W,2400</td>\n",
       "      <td>TMIN</td>\n",
       "      <td>2018-10-01</td>\n",
       "      <td>GHCND:USW00014732</td>\n",
       "      <td>18.3</td>\n",
       "      <td>64.94</td>\n",
       "    </tr>\n",
       "    <tr>\n",
       "      <th>3</th>\n",
       "      <td>H,,S,</td>\n",
       "      <td>TAVG</td>\n",
       "      <td>2018-10-02</td>\n",
       "      <td>GHCND:USW00014732</td>\n",
       "      <td>22.7</td>\n",
       "      <td>72.86</td>\n",
       "    </tr>\n",
       "    <tr>\n",
       "      <th>4</th>\n",
       "      <td>,,W,2400</td>\n",
       "      <td>TMAX</td>\n",
       "      <td>2018-10-02</td>\n",
       "      <td>GHCND:USW00014732</td>\n",
       "      <td>26.1</td>\n",
       "      <td>78.98</td>\n",
       "    </tr>\n",
       "  </tbody>\n",
       "</table>\n",
       "</div>"
      ],
      "text/plain": [
       "      flags datatype       date            station  temp_C  temp_F\n",
       "0     H,,S,     TAVG 2018-10-01  GHCND:USW00014732    21.2   70.16\n",
       "1  ,,W,2400     TMAX 2018-10-01  GHCND:USW00014732    25.6   78.08\n",
       "2  ,,W,2400     TMIN 2018-10-01  GHCND:USW00014732    18.3   64.94\n",
       "3     H,,S,     TAVG 2018-10-02  GHCND:USW00014732    22.7   72.86\n",
       "4  ,,W,2400     TMAX 2018-10-02  GHCND:USW00014732    26.1   78.98"
      ]
     },
     "execution_count": 50,
     "metadata": {},
     "output_type": "execute_result"
    }
   ],
   "source": [
    "new_df.head()"
   ]
  },
  {
   "cell_type": "markdown",
   "metadata": {},
   "source": [
    "We can also use `astype()` to perform conversions. Let's create columns of the integer portion of the temperatures in Celsius and Fahrenheit:"
   ]
  },
  {
   "cell_type": "code",
   "execution_count": 51,
   "metadata": {},
   "outputs": [
    {
     "data": {
      "text/html": [
       "<div>\n",
       "<style scoped>\n",
       "    .dataframe tbody tr th:only-of-type {\n",
       "        vertical-align: middle;\n",
       "    }\n",
       "\n",
       "    .dataframe tbody tr th {\n",
       "        vertical-align: top;\n",
       "    }\n",
       "\n",
       "    .dataframe thead th {\n",
       "        text-align: right;\n",
       "    }\n",
       "</style>\n",
       "<table border=\"1\" class=\"dataframe\">\n",
       "  <thead>\n",
       "    <tr style=\"text-align: right;\">\n",
       "      <th></th>\n",
       "      <th>flags</th>\n",
       "      <th>datatype</th>\n",
       "      <th>date</th>\n",
       "      <th>station</th>\n",
       "      <th>temp_C</th>\n",
       "      <th>temp_C_whole</th>\n",
       "      <th>temp_F</th>\n",
       "      <th>temp_F_whole</th>\n",
       "    </tr>\n",
       "  </thead>\n",
       "  <tbody>\n",
       "    <tr>\n",
       "      <th>0</th>\n",
       "      <td>H,,S,</td>\n",
       "      <td>TAVG</td>\n",
       "      <td>2018-10-01</td>\n",
       "      <td>GHCND:USW00014732</td>\n",
       "      <td>21.2</td>\n",
       "      <td>21</td>\n",
       "      <td>70.16</td>\n",
       "      <td>70</td>\n",
       "    </tr>\n",
       "    <tr>\n",
       "      <th>1</th>\n",
       "      <td>,,W,2400</td>\n",
       "      <td>TMAX</td>\n",
       "      <td>2018-10-01</td>\n",
       "      <td>GHCND:USW00014732</td>\n",
       "      <td>25.6</td>\n",
       "      <td>25</td>\n",
       "      <td>78.08</td>\n",
       "      <td>78</td>\n",
       "    </tr>\n",
       "    <tr>\n",
       "      <th>2</th>\n",
       "      <td>,,W,2400</td>\n",
       "      <td>TMIN</td>\n",
       "      <td>2018-10-01</td>\n",
       "      <td>GHCND:USW00014732</td>\n",
       "      <td>18.3</td>\n",
       "      <td>18</td>\n",
       "      <td>64.94</td>\n",
       "      <td>64</td>\n",
       "    </tr>\n",
       "    <tr>\n",
       "      <th>3</th>\n",
       "      <td>H,,S,</td>\n",
       "      <td>TAVG</td>\n",
       "      <td>2018-10-02</td>\n",
       "      <td>GHCND:USW00014732</td>\n",
       "      <td>22.7</td>\n",
       "      <td>22</td>\n",
       "      <td>72.86</td>\n",
       "      <td>72</td>\n",
       "    </tr>\n",
       "    <tr>\n",
       "      <th>4</th>\n",
       "      <td>,,W,2400</td>\n",
       "      <td>TMAX</td>\n",
       "      <td>2018-10-02</td>\n",
       "      <td>GHCND:USW00014732</td>\n",
       "      <td>26.1</td>\n",
       "      <td>26</td>\n",
       "      <td>78.98</td>\n",
       "      <td>78</td>\n",
       "    </tr>\n",
       "  </tbody>\n",
       "</table>\n",
       "</div>"
      ],
      "text/plain": [
       "      flags datatype       date            station  temp_C  temp_C_whole  \\\n",
       "0     H,,S,     TAVG 2018-10-01  GHCND:USW00014732    21.2            21   \n",
       "1  ,,W,2400     TMAX 2018-10-01  GHCND:USW00014732    25.6            25   \n",
       "2  ,,W,2400     TMIN 2018-10-01  GHCND:USW00014732    18.3            18   \n",
       "3     H,,S,     TAVG 2018-10-02  GHCND:USW00014732    22.7            22   \n",
       "4  ,,W,2400     TMAX 2018-10-02  GHCND:USW00014732    26.1            26   \n",
       "\n",
       "   temp_F  temp_F_whole  \n",
       "0   70.16            70  \n",
       "1   78.08            78  \n",
       "2   64.94            64  \n",
       "3   72.86            72  \n",
       "4   78.98            78  "
      ]
     },
     "execution_count": 51,
     "metadata": {},
     "output_type": "execute_result"
    }
   ],
   "source": [
    "df = df.assign(\n",
    "    date=pd.to_datetime(df.date),\n",
    "    temp_C_whole=df.temp_C.astype('int'),\n",
    "    temp_F=(df.temp_C * 9/5) + 32,\n",
    "    temp_F_whole=lambda x: x.temp_F.astype('int')\n",
    ")\n",
    "\n",
    "df.head()"
   ]
  },
  {
   "cell_type": "markdown",
   "metadata": {},
   "source": [
    "Creating categories:"
   ]
  },
  {
   "cell_type": "code",
   "execution_count": 52,
   "metadata": {},
   "outputs": [
    {
     "data": {
      "text/plain": [
       "flags                   object\n",
       "datatype              category\n",
       "date            datetime64[ns]\n",
       "station               category\n",
       "temp_C                 float64\n",
       "temp_C_whole             int64\n",
       "temp_F                 float64\n",
       "temp_F_whole             int64\n",
       "dtype: object"
      ]
     },
     "execution_count": 52,
     "metadata": {},
     "output_type": "execute_result"
    }
   ],
   "source": [
    "df_with_categories = df.assign(\n",
    "    station=df.station.astype('category'),\n",
    "    datatype=df.datatype.astype('category')\n",
    ")\n",
    "df_with_categories.dtypes"
   ]
  },
  {
   "cell_type": "code",
   "execution_count": 53,
   "metadata": {},
   "outputs": [
    {
     "data": {
      "text/html": [
       "<div>\n",
       "<style scoped>\n",
       "    .dataframe tbody tr th:only-of-type {\n",
       "        vertical-align: middle;\n",
       "    }\n",
       "\n",
       "    .dataframe tbody tr th {\n",
       "        vertical-align: top;\n",
       "    }\n",
       "\n",
       "    .dataframe thead th {\n",
       "        text-align: right;\n",
       "    }\n",
       "</style>\n",
       "<table border=\"1\" class=\"dataframe\">\n",
       "  <thead>\n",
       "    <tr style=\"text-align: right;\">\n",
       "      <th></th>\n",
       "      <th>datatype</th>\n",
       "      <th>station</th>\n",
       "    </tr>\n",
       "  </thead>\n",
       "  <tbody>\n",
       "    <tr>\n",
       "      <th>count</th>\n",
       "      <td>93</td>\n",
       "      <td>93</td>\n",
       "    </tr>\n",
       "    <tr>\n",
       "      <th>unique</th>\n",
       "      <td>3</td>\n",
       "      <td>1</td>\n",
       "    </tr>\n",
       "    <tr>\n",
       "      <th>top</th>\n",
       "      <td>TMIN</td>\n",
       "      <td>GHCND:USW00014732</td>\n",
       "    </tr>\n",
       "    <tr>\n",
       "      <th>freq</th>\n",
       "      <td>31</td>\n",
       "      <td>93</td>\n",
       "    </tr>\n",
       "  </tbody>\n",
       "</table>\n",
       "</div>"
      ],
      "text/plain": [
       "       datatype            station\n",
       "count        93                 93\n",
       "unique        3                  1\n",
       "top        TMIN  GHCND:USW00014732\n",
       "freq         31                 93"
      ]
     },
     "execution_count": 53,
     "metadata": {},
     "output_type": "execute_result"
    }
   ],
   "source": [
    "df_with_categories.describe(include='category')"
   ]
  },
  {
   "cell_type": "markdown",
   "metadata": {},
   "source": [
    "Our categories have no order, but this is something `pandas` supports:"
   ]
  },
  {
   "cell_type": "code",
   "execution_count": 54,
   "metadata": {},
   "outputs": [
    {
     "data": {
      "text/plain": [
       "[med, med, low, high]\n",
       "Categories (3, object): [low < med < high]"
      ]
     },
     "execution_count": 54,
     "metadata": {},
     "output_type": "execute_result"
    }
   ],
   "source": [
    "pd.Categorical(\n",
    "    ['med', 'med', 'low', 'high'], \n",
    "    categories=['low', 'med', 'high'],\n",
    "    ordered=True\n",
    ")"
   ]
  },
  {
   "cell_type": "markdown",
   "metadata": {},
   "source": [
    "## Reordering, reindexing, and sorting\n",
    "Say we want to find the hottest days in the temperature data; we can sort our values by the `temp_C` column with the largest on top to find this: "
   ]
  },
  {
   "cell_type": "code",
   "execution_count": 55,
   "metadata": {},
   "outputs": [
    {
     "data": {
      "text/html": [
       "<div>\n",
       "<style scoped>\n",
       "    .dataframe tbody tr th:only-of-type {\n",
       "        vertical-align: middle;\n",
       "    }\n",
       "\n",
       "    .dataframe tbody tr th {\n",
       "        vertical-align: top;\n",
       "    }\n",
       "\n",
       "    .dataframe thead th {\n",
       "        text-align: right;\n",
       "    }\n",
       "</style>\n",
       "<table border=\"1\" class=\"dataframe\">\n",
       "  <thead>\n",
       "    <tr style=\"text-align: right;\">\n",
       "      <th></th>\n",
       "      <th>flags</th>\n",
       "      <th>datatype</th>\n",
       "      <th>date</th>\n",
       "      <th>station</th>\n",
       "      <th>temp_C</th>\n",
       "      <th>temp_C_whole</th>\n",
       "      <th>temp_F</th>\n",
       "      <th>temp_F_whole</th>\n",
       "    </tr>\n",
       "  </thead>\n",
       "  <tbody>\n",
       "    <tr>\n",
       "      <th>19</th>\n",
       "      <td>,,W,2400</td>\n",
       "      <td>TMAX</td>\n",
       "      <td>2018-10-07</td>\n",
       "      <td>GHCND:USW00014732</td>\n",
       "      <td>27.8</td>\n",
       "      <td>27</td>\n",
       "      <td>82.04</td>\n",
       "      <td>82</td>\n",
       "    </tr>\n",
       "    <tr>\n",
       "      <th>28</th>\n",
       "      <td>,,W,2400</td>\n",
       "      <td>TMAX</td>\n",
       "      <td>2018-10-10</td>\n",
       "      <td>GHCND:USW00014732</td>\n",
       "      <td>27.8</td>\n",
       "      <td>27</td>\n",
       "      <td>82.04</td>\n",
       "      <td>82</td>\n",
       "    </tr>\n",
       "    <tr>\n",
       "      <th>31</th>\n",
       "      <td>,,W,2400</td>\n",
       "      <td>TMAX</td>\n",
       "      <td>2018-10-11</td>\n",
       "      <td>GHCND:USW00014732</td>\n",
       "      <td>26.7</td>\n",
       "      <td>26</td>\n",
       "      <td>80.06</td>\n",
       "      <td>80</td>\n",
       "    </tr>\n",
       "    <tr>\n",
       "      <th>4</th>\n",
       "      <td>,,W,2400</td>\n",
       "      <td>TMAX</td>\n",
       "      <td>2018-10-02</td>\n",
       "      <td>GHCND:USW00014732</td>\n",
       "      <td>26.1</td>\n",
       "      <td>26</td>\n",
       "      <td>78.98</td>\n",
       "      <td>78</td>\n",
       "    </tr>\n",
       "    <tr>\n",
       "      <th>10</th>\n",
       "      <td>,,W,2400</td>\n",
       "      <td>TMAX</td>\n",
       "      <td>2018-10-04</td>\n",
       "      <td>GHCND:USW00014732</td>\n",
       "      <td>26.1</td>\n",
       "      <td>26</td>\n",
       "      <td>78.98</td>\n",
       "      <td>78</td>\n",
       "    </tr>\n",
       "    <tr>\n",
       "      <th>25</th>\n",
       "      <td>,,W,2400</td>\n",
       "      <td>TMAX</td>\n",
       "      <td>2018-10-09</td>\n",
       "      <td>GHCND:USW00014732</td>\n",
       "      <td>25.6</td>\n",
       "      <td>25</td>\n",
       "      <td>78.08</td>\n",
       "      <td>78</td>\n",
       "    </tr>\n",
       "    <tr>\n",
       "      <th>1</th>\n",
       "      <td>,,W,2400</td>\n",
       "      <td>TMAX</td>\n",
       "      <td>2018-10-01</td>\n",
       "      <td>GHCND:USW00014732</td>\n",
       "      <td>25.6</td>\n",
       "      <td>25</td>\n",
       "      <td>78.08</td>\n",
       "      <td>78</td>\n",
       "    </tr>\n",
       "    <tr>\n",
       "      <th>7</th>\n",
       "      <td>,,W,2400</td>\n",
       "      <td>TMAX</td>\n",
       "      <td>2018-10-03</td>\n",
       "      <td>GHCND:USW00014732</td>\n",
       "      <td>25.0</td>\n",
       "      <td>25</td>\n",
       "      <td>77.00</td>\n",
       "      <td>77</td>\n",
       "    </tr>\n",
       "    <tr>\n",
       "      <th>27</th>\n",
       "      <td>H,,S,</td>\n",
       "      <td>TAVG</td>\n",
       "      <td>2018-10-10</td>\n",
       "      <td>GHCND:USW00014732</td>\n",
       "      <td>23.8</td>\n",
       "      <td>23</td>\n",
       "      <td>74.84</td>\n",
       "      <td>74</td>\n",
       "    </tr>\n",
       "    <tr>\n",
       "      <th>30</th>\n",
       "      <td>H,,S,</td>\n",
       "      <td>TAVG</td>\n",
       "      <td>2018-10-11</td>\n",
       "      <td>GHCND:USW00014732</td>\n",
       "      <td>23.4</td>\n",
       "      <td>23</td>\n",
       "      <td>74.12</td>\n",
       "      <td>74</td>\n",
       "    </tr>\n",
       "  </tbody>\n",
       "</table>\n",
       "</div>"
      ],
      "text/plain": [
       "       flags datatype       date            station  temp_C  temp_C_whole  \\\n",
       "19  ,,W,2400     TMAX 2018-10-07  GHCND:USW00014732    27.8            27   \n",
       "28  ,,W,2400     TMAX 2018-10-10  GHCND:USW00014732    27.8            27   \n",
       "31  ,,W,2400     TMAX 2018-10-11  GHCND:USW00014732    26.7            26   \n",
       "4   ,,W,2400     TMAX 2018-10-02  GHCND:USW00014732    26.1            26   \n",
       "10  ,,W,2400     TMAX 2018-10-04  GHCND:USW00014732    26.1            26   \n",
       "25  ,,W,2400     TMAX 2018-10-09  GHCND:USW00014732    25.6            25   \n",
       "1   ,,W,2400     TMAX 2018-10-01  GHCND:USW00014732    25.6            25   \n",
       "7   ,,W,2400     TMAX 2018-10-03  GHCND:USW00014732    25.0            25   \n",
       "27     H,,S,     TAVG 2018-10-10  GHCND:USW00014732    23.8            23   \n",
       "30     H,,S,     TAVG 2018-10-11  GHCND:USW00014732    23.4            23   \n",
       "\n",
       "    temp_F  temp_F_whole  \n",
       "19   82.04            82  \n",
       "28   82.04            82  \n",
       "31   80.06            80  \n",
       "4    78.98            78  \n",
       "10   78.98            78  \n",
       "25   78.08            78  \n",
       "1    78.08            78  \n",
       "7    77.00            77  \n",
       "27   74.84            74  \n",
       "30   74.12            74  "
      ]
     },
     "execution_count": 55,
     "metadata": {},
     "output_type": "execute_result"
    }
   ],
   "source": [
    "df.sort_values(by='temp_C', ascending=False).head(10)"
   ]
  },
  {
   "cell_type": "code",
   "execution_count": 56,
   "metadata": {},
   "outputs": [
    {
     "data": {
      "text/html": [
       "<div>\n",
       "<style scoped>\n",
       "    .dataframe tbody tr th:only-of-type {\n",
       "        vertical-align: middle;\n",
       "    }\n",
       "\n",
       "    .dataframe tbody tr th {\n",
       "        vertical-align: top;\n",
       "    }\n",
       "\n",
       "    .dataframe thead th {\n",
       "        text-align: right;\n",
       "    }\n",
       "</style>\n",
       "<table border=\"1\" class=\"dataframe\">\n",
       "  <thead>\n",
       "    <tr style=\"text-align: right;\">\n",
       "      <th></th>\n",
       "      <th>flags</th>\n",
       "      <th>datatype</th>\n",
       "      <th>date</th>\n",
       "      <th>station</th>\n",
       "      <th>temp_C</th>\n",
       "      <th>temp_C_whole</th>\n",
       "      <th>temp_F</th>\n",
       "      <th>temp_F_whole</th>\n",
       "    </tr>\n",
       "  </thead>\n",
       "  <tbody>\n",
       "    <tr>\n",
       "      <th>28</th>\n",
       "      <td>,,W,2400</td>\n",
       "      <td>TMAX</td>\n",
       "      <td>2018-10-10</td>\n",
       "      <td>GHCND:USW00014732</td>\n",
       "      <td>27.8</td>\n",
       "      <td>27</td>\n",
       "      <td>82.04</td>\n",
       "      <td>82</td>\n",
       "    </tr>\n",
       "    <tr>\n",
       "      <th>19</th>\n",
       "      <td>,,W,2400</td>\n",
       "      <td>TMAX</td>\n",
       "      <td>2018-10-07</td>\n",
       "      <td>GHCND:USW00014732</td>\n",
       "      <td>27.8</td>\n",
       "      <td>27</td>\n",
       "      <td>82.04</td>\n",
       "      <td>82</td>\n",
       "    </tr>\n",
       "    <tr>\n",
       "      <th>31</th>\n",
       "      <td>,,W,2400</td>\n",
       "      <td>TMAX</td>\n",
       "      <td>2018-10-11</td>\n",
       "      <td>GHCND:USW00014732</td>\n",
       "      <td>26.7</td>\n",
       "      <td>26</td>\n",
       "      <td>80.06</td>\n",
       "      <td>80</td>\n",
       "    </tr>\n",
       "    <tr>\n",
       "      <th>10</th>\n",
       "      <td>,,W,2400</td>\n",
       "      <td>TMAX</td>\n",
       "      <td>2018-10-04</td>\n",
       "      <td>GHCND:USW00014732</td>\n",
       "      <td>26.1</td>\n",
       "      <td>26</td>\n",
       "      <td>78.98</td>\n",
       "      <td>78</td>\n",
       "    </tr>\n",
       "    <tr>\n",
       "      <th>4</th>\n",
       "      <td>,,W,2400</td>\n",
       "      <td>TMAX</td>\n",
       "      <td>2018-10-02</td>\n",
       "      <td>GHCND:USW00014732</td>\n",
       "      <td>26.1</td>\n",
       "      <td>26</td>\n",
       "      <td>78.98</td>\n",
       "      <td>78</td>\n",
       "    </tr>\n",
       "    <tr>\n",
       "      <th>25</th>\n",
       "      <td>,,W,2400</td>\n",
       "      <td>TMAX</td>\n",
       "      <td>2018-10-09</td>\n",
       "      <td>GHCND:USW00014732</td>\n",
       "      <td>25.6</td>\n",
       "      <td>25</td>\n",
       "      <td>78.08</td>\n",
       "      <td>78</td>\n",
       "    </tr>\n",
       "    <tr>\n",
       "      <th>1</th>\n",
       "      <td>,,W,2400</td>\n",
       "      <td>TMAX</td>\n",
       "      <td>2018-10-01</td>\n",
       "      <td>GHCND:USW00014732</td>\n",
       "      <td>25.6</td>\n",
       "      <td>25</td>\n",
       "      <td>78.08</td>\n",
       "      <td>78</td>\n",
       "    </tr>\n",
       "    <tr>\n",
       "      <th>7</th>\n",
       "      <td>,,W,2400</td>\n",
       "      <td>TMAX</td>\n",
       "      <td>2018-10-03</td>\n",
       "      <td>GHCND:USW00014732</td>\n",
       "      <td>25.0</td>\n",
       "      <td>25</td>\n",
       "      <td>77.00</td>\n",
       "      <td>77</td>\n",
       "    </tr>\n",
       "    <tr>\n",
       "      <th>27</th>\n",
       "      <td>H,,S,</td>\n",
       "      <td>TAVG</td>\n",
       "      <td>2018-10-10</td>\n",
       "      <td>GHCND:USW00014732</td>\n",
       "      <td>23.8</td>\n",
       "      <td>23</td>\n",
       "      <td>74.84</td>\n",
       "      <td>74</td>\n",
       "    </tr>\n",
       "    <tr>\n",
       "      <th>30</th>\n",
       "      <td>H,,S,</td>\n",
       "      <td>TAVG</td>\n",
       "      <td>2018-10-11</td>\n",
       "      <td>GHCND:USW00014732</td>\n",
       "      <td>23.4</td>\n",
       "      <td>23</td>\n",
       "      <td>74.12</td>\n",
       "      <td>74</td>\n",
       "    </tr>\n",
       "  </tbody>\n",
       "</table>\n",
       "</div>"
      ],
      "text/plain": [
       "       flags datatype       date            station  temp_C  temp_C_whole  \\\n",
       "28  ,,W,2400     TMAX 2018-10-10  GHCND:USW00014732    27.8            27   \n",
       "19  ,,W,2400     TMAX 2018-10-07  GHCND:USW00014732    27.8            27   \n",
       "31  ,,W,2400     TMAX 2018-10-11  GHCND:USW00014732    26.7            26   \n",
       "10  ,,W,2400     TMAX 2018-10-04  GHCND:USW00014732    26.1            26   \n",
       "4   ,,W,2400     TMAX 2018-10-02  GHCND:USW00014732    26.1            26   \n",
       "25  ,,W,2400     TMAX 2018-10-09  GHCND:USW00014732    25.6            25   \n",
       "1   ,,W,2400     TMAX 2018-10-01  GHCND:USW00014732    25.6            25   \n",
       "7   ,,W,2400     TMAX 2018-10-03  GHCND:USW00014732    25.0            25   \n",
       "27     H,,S,     TAVG 2018-10-10  GHCND:USW00014732    23.8            23   \n",
       "30     H,,S,     TAVG 2018-10-11  GHCND:USW00014732    23.4            23   \n",
       "\n",
       "    temp_F  temp_F_whole  \n",
       "28   82.04            82  \n",
       "19   82.04            82  \n",
       "31   80.06            80  \n",
       "10   78.98            78  \n",
       "4    78.98            78  \n",
       "25   78.08            78  \n",
       "1    78.08            78  \n",
       "7    77.00            77  \n",
       "27   74.84            74  \n",
       "30   74.12            74  "
      ]
     },
     "execution_count": 56,
     "metadata": {},
     "output_type": "execute_result"
    }
   ],
   "source": [
    "df.sort_values(by=['temp_C', 'date'], ascending=False).head(10)"
   ]
  },
  {
   "cell_type": "markdown",
   "metadata": {},
   "source": [
    "When just looking for the n-largest values, rather than wanting to sort all the data, we can use `nlargest()`:"
   ]
  },
  {
   "cell_type": "code",
   "execution_count": 57,
   "metadata": {},
   "outputs": [
    {
     "data": {
      "text/html": [
       "<div>\n",
       "<style scoped>\n",
       "    .dataframe tbody tr th:only-of-type {\n",
       "        vertical-align: middle;\n",
       "    }\n",
       "\n",
       "    .dataframe tbody tr th {\n",
       "        vertical-align: top;\n",
       "    }\n",
       "\n",
       "    .dataframe thead th {\n",
       "        text-align: right;\n",
       "    }\n",
       "</style>\n",
       "<table border=\"1\" class=\"dataframe\">\n",
       "  <thead>\n",
       "    <tr style=\"text-align: right;\">\n",
       "      <th></th>\n",
       "      <th>flags</th>\n",
       "      <th>datatype</th>\n",
       "      <th>date</th>\n",
       "      <th>station</th>\n",
       "      <th>temp_C</th>\n",
       "      <th>temp_C_whole</th>\n",
       "      <th>temp_F</th>\n",
       "      <th>temp_F_whole</th>\n",
       "    </tr>\n",
       "  </thead>\n",
       "  <tbody>\n",
       "    <tr>\n",
       "      <th>19</th>\n",
       "      <td>,,W,2400</td>\n",
       "      <td>TMAX</td>\n",
       "      <td>2018-10-07</td>\n",
       "      <td>GHCND:USW00014732</td>\n",
       "      <td>27.8</td>\n",
       "      <td>27</td>\n",
       "      <td>82.04</td>\n",
       "      <td>82</td>\n",
       "    </tr>\n",
       "    <tr>\n",
       "      <th>28</th>\n",
       "      <td>,,W,2400</td>\n",
       "      <td>TMAX</td>\n",
       "      <td>2018-10-10</td>\n",
       "      <td>GHCND:USW00014732</td>\n",
       "      <td>27.8</td>\n",
       "      <td>27</td>\n",
       "      <td>82.04</td>\n",
       "      <td>82</td>\n",
       "    </tr>\n",
       "    <tr>\n",
       "      <th>31</th>\n",
       "      <td>,,W,2400</td>\n",
       "      <td>TMAX</td>\n",
       "      <td>2018-10-11</td>\n",
       "      <td>GHCND:USW00014732</td>\n",
       "      <td>26.7</td>\n",
       "      <td>26</td>\n",
       "      <td>80.06</td>\n",
       "      <td>80</td>\n",
       "    </tr>\n",
       "    <tr>\n",
       "      <th>4</th>\n",
       "      <td>,,W,2400</td>\n",
       "      <td>TMAX</td>\n",
       "      <td>2018-10-02</td>\n",
       "      <td>GHCND:USW00014732</td>\n",
       "      <td>26.1</td>\n",
       "      <td>26</td>\n",
       "      <td>78.98</td>\n",
       "      <td>78</td>\n",
       "    </tr>\n",
       "    <tr>\n",
       "      <th>10</th>\n",
       "      <td>,,W,2400</td>\n",
       "      <td>TMAX</td>\n",
       "      <td>2018-10-04</td>\n",
       "      <td>GHCND:USW00014732</td>\n",
       "      <td>26.1</td>\n",
       "      <td>26</td>\n",
       "      <td>78.98</td>\n",
       "      <td>78</td>\n",
       "    </tr>\n",
       "  </tbody>\n",
       "</table>\n",
       "</div>"
      ],
      "text/plain": [
       "       flags datatype       date            station  temp_C  temp_C_whole  \\\n",
       "19  ,,W,2400     TMAX 2018-10-07  GHCND:USW00014732    27.8            27   \n",
       "28  ,,W,2400     TMAX 2018-10-10  GHCND:USW00014732    27.8            27   \n",
       "31  ,,W,2400     TMAX 2018-10-11  GHCND:USW00014732    26.7            26   \n",
       "4   ,,W,2400     TMAX 2018-10-02  GHCND:USW00014732    26.1            26   \n",
       "10  ,,W,2400     TMAX 2018-10-04  GHCND:USW00014732    26.1            26   \n",
       "\n",
       "    temp_F  temp_F_whole  \n",
       "19   82.04            82  \n",
       "28   82.04            82  \n",
       "31   80.06            80  \n",
       "4    78.98            78  \n",
       "10   78.98            78  "
      ]
     },
     "execution_count": 57,
     "metadata": {},
     "output_type": "execute_result"
    }
   ],
   "source": [
    "df.nlargest(n=5, columns='temp_C')"
   ]
  },
  {
   "cell_type": "markdown",
   "metadata": {},
   "source": [
    "We use `nsmallest()` for the n-smallest values. Note that these can also take a list of columns; however, it won't work with the `date` column."
   ]
  },
  {
   "cell_type": "code",
   "execution_count": 58,
   "metadata": {},
   "outputs": [
    {
     "data": {
      "text/html": [
       "<div>\n",
       "<style scoped>\n",
       "    .dataframe tbody tr th:only-of-type {\n",
       "        vertical-align: middle;\n",
       "    }\n",
       "\n",
       "    .dataframe tbody tr th {\n",
       "        vertical-align: top;\n",
       "    }\n",
       "\n",
       "    .dataframe thead th {\n",
       "        text-align: right;\n",
       "    }\n",
       "</style>\n",
       "<table border=\"1\" class=\"dataframe\">\n",
       "  <thead>\n",
       "    <tr style=\"text-align: right;\">\n",
       "      <th></th>\n",
       "      <th>flags</th>\n",
       "      <th>datatype</th>\n",
       "      <th>date</th>\n",
       "      <th>station</th>\n",
       "      <th>temp_C</th>\n",
       "      <th>temp_C_whole</th>\n",
       "      <th>temp_F</th>\n",
       "      <th>temp_F_whole</th>\n",
       "    </tr>\n",
       "  </thead>\n",
       "  <tbody>\n",
       "    <tr>\n",
       "      <th>65</th>\n",
       "      <td>,,W,2400</td>\n",
       "      <td>TMIN</td>\n",
       "      <td>2018-10-22</td>\n",
       "      <td>GHCND:USW00014732</td>\n",
       "      <td>5.6</td>\n",
       "      <td>5</td>\n",
       "      <td>42.08</td>\n",
       "      <td>42</td>\n",
       "    </tr>\n",
       "    <tr>\n",
       "      <th>77</th>\n",
       "      <td>,,W,2400</td>\n",
       "      <td>TMIN</td>\n",
       "      <td>2018-10-26</td>\n",
       "      <td>GHCND:USW00014732</td>\n",
       "      <td>5.6</td>\n",
       "      <td>5</td>\n",
       "      <td>42.08</td>\n",
       "      <td>42</td>\n",
       "    </tr>\n",
       "    <tr>\n",
       "      <th>62</th>\n",
       "      <td>,,W,2400</td>\n",
       "      <td>TMIN</td>\n",
       "      <td>2018-10-21</td>\n",
       "      <td>GHCND:USW00014732</td>\n",
       "      <td>6.1</td>\n",
       "      <td>6</td>\n",
       "      <td>42.98</td>\n",
       "      <td>42</td>\n",
       "    </tr>\n",
       "    <tr>\n",
       "      <th>74</th>\n",
       "      <td>,,W,2400</td>\n",
       "      <td>TMIN</td>\n",
       "      <td>2018-10-25</td>\n",
       "      <td>GHCND:USW00014732</td>\n",
       "      <td>6.1</td>\n",
       "      <td>6</td>\n",
       "      <td>42.98</td>\n",
       "      <td>42</td>\n",
       "    </tr>\n",
       "    <tr>\n",
       "      <th>53</th>\n",
       "      <td>,,W,2400</td>\n",
       "      <td>TMIN</td>\n",
       "      <td>2018-10-18</td>\n",
       "      <td>GHCND:USW00014732</td>\n",
       "      <td>6.7</td>\n",
       "      <td>6</td>\n",
       "      <td>44.06</td>\n",
       "      <td>44</td>\n",
       "    </tr>\n",
       "  </tbody>\n",
       "</table>\n",
       "</div>"
      ],
      "text/plain": [
       "       flags datatype       date            station  temp_C  temp_C_whole  \\\n",
       "65  ,,W,2400     TMIN 2018-10-22  GHCND:USW00014732     5.6             5   \n",
       "77  ,,W,2400     TMIN 2018-10-26  GHCND:USW00014732     5.6             5   \n",
       "62  ,,W,2400     TMIN 2018-10-21  GHCND:USW00014732     6.1             6   \n",
       "74  ,,W,2400     TMIN 2018-10-25  GHCND:USW00014732     6.1             6   \n",
       "53  ,,W,2400     TMIN 2018-10-18  GHCND:USW00014732     6.7             6   \n",
       "\n",
       "    temp_F  temp_F_whole  \n",
       "65   42.08            42  \n",
       "77   42.08            42  \n",
       "62   42.98            42  \n",
       "74   42.98            42  \n",
       "53   44.06            44  "
      ]
     },
     "execution_count": 58,
     "metadata": {},
     "output_type": "execute_result"
    }
   ],
   "source": [
    "df.nsmallest(n=5, columns=['temp_C', 'date'])"
   ]
  },
  {
   "cell_type": "markdown",
   "metadata": {},
   "source": [
    "The `sample()` method will give us rows (or columns with `axis=1`) at random. We can provide the `random_state` to make this reproducible. The index after we do this is jumbled:"
   ]
  },
  {
   "cell_type": "code",
   "execution_count": 59,
   "metadata": {},
   "outputs": [
    {
     "data": {
      "text/plain": [
       "Int64Index([2, 30, 55, 16, 13], dtype='int64')"
      ]
     },
     "execution_count": 59,
     "metadata": {},
     "output_type": "execute_result"
    }
   ],
   "source": [
    "df.sample(5, random_state=0).index"
   ]
  },
  {
   "cell_type": "markdown",
   "metadata": {},
   "source": [
    "We can use `sort_index()` to order it again:"
   ]
  },
  {
   "cell_type": "code",
   "execution_count": 60,
   "metadata": {},
   "outputs": [
    {
     "data": {
      "text/plain": [
       "Int64Index([2, 13, 16, 30, 55], dtype='int64')"
      ]
     },
     "execution_count": 60,
     "metadata": {},
     "output_type": "execute_result"
    }
   ],
   "source": [
    "df.sample(5, random_state=0).sort_index().index"
   ]
  },
  {
   "cell_type": "markdown",
   "metadata": {},
   "source": [
    "The `sort_index()` method can also sort columns alphabetically:"
   ]
  },
  {
   "cell_type": "code",
   "execution_count": 61,
   "metadata": {},
   "outputs": [
    {
     "data": {
      "text/html": [
       "<div>\n",
       "<style scoped>\n",
       "    .dataframe tbody tr th:only-of-type {\n",
       "        vertical-align: middle;\n",
       "    }\n",
       "\n",
       "    .dataframe tbody tr th {\n",
       "        vertical-align: top;\n",
       "    }\n",
       "\n",
       "    .dataframe thead th {\n",
       "        text-align: right;\n",
       "    }\n",
       "</style>\n",
       "<table border=\"1\" class=\"dataframe\">\n",
       "  <thead>\n",
       "    <tr style=\"text-align: right;\">\n",
       "      <th></th>\n",
       "      <th>datatype</th>\n",
       "      <th>date</th>\n",
       "      <th>flags</th>\n",
       "      <th>station</th>\n",
       "      <th>temp_C</th>\n",
       "      <th>temp_C_whole</th>\n",
       "      <th>temp_F</th>\n",
       "      <th>temp_F_whole</th>\n",
       "    </tr>\n",
       "  </thead>\n",
       "  <tbody>\n",
       "    <tr>\n",
       "      <th>0</th>\n",
       "      <td>TAVG</td>\n",
       "      <td>2018-10-01</td>\n",
       "      <td>H,,S,</td>\n",
       "      <td>GHCND:USW00014732</td>\n",
       "      <td>21.2</td>\n",
       "      <td>21</td>\n",
       "      <td>70.16</td>\n",
       "      <td>70</td>\n",
       "    </tr>\n",
       "    <tr>\n",
       "      <th>1</th>\n",
       "      <td>TMAX</td>\n",
       "      <td>2018-10-01</td>\n",
       "      <td>,,W,2400</td>\n",
       "      <td>GHCND:USW00014732</td>\n",
       "      <td>25.6</td>\n",
       "      <td>25</td>\n",
       "      <td>78.08</td>\n",
       "      <td>78</td>\n",
       "    </tr>\n",
       "    <tr>\n",
       "      <th>2</th>\n",
       "      <td>TMIN</td>\n",
       "      <td>2018-10-01</td>\n",
       "      <td>,,W,2400</td>\n",
       "      <td>GHCND:USW00014732</td>\n",
       "      <td>18.3</td>\n",
       "      <td>18</td>\n",
       "      <td>64.94</td>\n",
       "      <td>64</td>\n",
       "    </tr>\n",
       "    <tr>\n",
       "      <th>3</th>\n",
       "      <td>TAVG</td>\n",
       "      <td>2018-10-02</td>\n",
       "      <td>H,,S,</td>\n",
       "      <td>GHCND:USW00014732</td>\n",
       "      <td>22.7</td>\n",
       "      <td>22</td>\n",
       "      <td>72.86</td>\n",
       "      <td>72</td>\n",
       "    </tr>\n",
       "    <tr>\n",
       "      <th>4</th>\n",
       "      <td>TMAX</td>\n",
       "      <td>2018-10-02</td>\n",
       "      <td>,,W,2400</td>\n",
       "      <td>GHCND:USW00014732</td>\n",
       "      <td>26.1</td>\n",
       "      <td>26</td>\n",
       "      <td>78.98</td>\n",
       "      <td>78</td>\n",
       "    </tr>\n",
       "  </tbody>\n",
       "</table>\n",
       "</div>"
      ],
      "text/plain": [
       "  datatype       date     flags            station  temp_C  temp_C_whole  \\\n",
       "0     TAVG 2018-10-01     H,,S,  GHCND:USW00014732    21.2            21   \n",
       "1     TMAX 2018-10-01  ,,W,2400  GHCND:USW00014732    25.6            25   \n",
       "2     TMIN 2018-10-01  ,,W,2400  GHCND:USW00014732    18.3            18   \n",
       "3     TAVG 2018-10-02     H,,S,  GHCND:USW00014732    22.7            22   \n",
       "4     TMAX 2018-10-02  ,,W,2400  GHCND:USW00014732    26.1            26   \n",
       "\n",
       "   temp_F  temp_F_whole  \n",
       "0   70.16            70  \n",
       "1   78.08            78  \n",
       "2   64.94            64  \n",
       "3   72.86            72  \n",
       "4   78.98            78  "
      ]
     },
     "execution_count": 61,
     "metadata": {},
     "output_type": "execute_result"
    }
   ],
   "source": [
    "df.sort_index(axis=1).head()"
   ]
  },
  {
   "cell_type": "markdown",
   "metadata": {},
   "source": [
    "This can make selection with `loc` easier for many columns:"
   ]
  },
  {
   "cell_type": "code",
   "execution_count": 62,
   "metadata": {},
   "outputs": [
    {
     "data": {
      "text/html": [
       "<div>\n",
       "<style scoped>\n",
       "    .dataframe tbody tr th:only-of-type {\n",
       "        vertical-align: middle;\n",
       "    }\n",
       "\n",
       "    .dataframe tbody tr th {\n",
       "        vertical-align: top;\n",
       "    }\n",
       "\n",
       "    .dataframe thead th {\n",
       "        text-align: right;\n",
       "    }\n",
       "</style>\n",
       "<table border=\"1\" class=\"dataframe\">\n",
       "  <thead>\n",
       "    <tr style=\"text-align: right;\">\n",
       "      <th></th>\n",
       "      <th>temp_C</th>\n",
       "      <th>temp_C_whole</th>\n",
       "      <th>temp_F</th>\n",
       "      <th>temp_F_whole</th>\n",
       "    </tr>\n",
       "  </thead>\n",
       "  <tbody>\n",
       "    <tr>\n",
       "      <th>0</th>\n",
       "      <td>21.2</td>\n",
       "      <td>21</td>\n",
       "      <td>70.16</td>\n",
       "      <td>70</td>\n",
       "    </tr>\n",
       "    <tr>\n",
       "      <th>1</th>\n",
       "      <td>25.6</td>\n",
       "      <td>25</td>\n",
       "      <td>78.08</td>\n",
       "      <td>78</td>\n",
       "    </tr>\n",
       "    <tr>\n",
       "      <th>2</th>\n",
       "      <td>18.3</td>\n",
       "      <td>18</td>\n",
       "      <td>64.94</td>\n",
       "      <td>64</td>\n",
       "    </tr>\n",
       "    <tr>\n",
       "      <th>3</th>\n",
       "      <td>22.7</td>\n",
       "      <td>22</td>\n",
       "      <td>72.86</td>\n",
       "      <td>72</td>\n",
       "    </tr>\n",
       "    <tr>\n",
       "      <th>4</th>\n",
       "      <td>26.1</td>\n",
       "      <td>26</td>\n",
       "      <td>78.98</td>\n",
       "      <td>78</td>\n",
       "    </tr>\n",
       "  </tbody>\n",
       "</table>\n",
       "</div>"
      ],
      "text/plain": [
       "   temp_C  temp_C_whole  temp_F  temp_F_whole\n",
       "0    21.2            21   70.16            70\n",
       "1    25.6            25   78.08            78\n",
       "2    18.3            18   64.94            64\n",
       "3    22.7            22   72.86            72\n",
       "4    26.1            26   78.98            78"
      ]
     },
     "execution_count": 62,
     "metadata": {},
     "output_type": "execute_result"
    }
   ],
   "source": [
    "df.sort_index(axis=1).head().loc[:,'temp_C':'temp_F_whole']"
   ]
  },
  {
   "cell_type": "markdown",
   "metadata": {},
   "source": [
    "We must sort the index to compare two dataframes. If the index is different, but the data is the same, they will be marked not-equal:"
   ]
  },
  {
   "cell_type": "code",
   "execution_count": 63,
   "metadata": {},
   "outputs": [
    {
     "data": {
      "text/plain": [
       "False"
      ]
     },
     "execution_count": 63,
     "metadata": {},
     "output_type": "execute_result"
    }
   ],
   "source": [
    "df.equals(df.sort_values(by='temp_C'))"
   ]
  },
  {
   "cell_type": "markdown",
   "metadata": {},
   "source": [
    "Sorting the index solves this issue:"
   ]
  },
  {
   "cell_type": "code",
   "execution_count": 64,
   "metadata": {},
   "outputs": [
    {
     "data": {
      "text/plain": [
       "True"
      ]
     },
     "execution_count": 64,
     "metadata": {},
     "output_type": "execute_result"
    }
   ],
   "source": [
    "df.equals(df.sort_values(by='temp_C').sort_index())"
   ]
  },
  {
   "cell_type": "markdown",
   "metadata": {},
   "source": [
    "We can also use `reset_index()` to get a fresh index and move our current index into a column for safe keeping. This is especially useful if we had data, such as the date, in the index that we don't want to lose:"
   ]
  },
  {
   "cell_type": "code",
   "execution_count": 65,
   "metadata": {},
   "outputs": [
    {
     "data": {
      "text/html": [
       "<div>\n",
       "<style scoped>\n",
       "    .dataframe tbody tr th:only-of-type {\n",
       "        vertical-align: middle;\n",
       "    }\n",
       "\n",
       "    .dataframe tbody tr th {\n",
       "        vertical-align: top;\n",
       "    }\n",
       "\n",
       "    .dataframe thead th {\n",
       "        text-align: right;\n",
       "    }\n",
       "</style>\n",
       "<table border=\"1\" class=\"dataframe\">\n",
       "  <thead>\n",
       "    <tr style=\"text-align: right;\">\n",
       "      <th></th>\n",
       "      <th>index</th>\n",
       "      <th>flags</th>\n",
       "      <th>datatype</th>\n",
       "      <th>date</th>\n",
       "      <th>station</th>\n",
       "      <th>temp_C</th>\n",
       "      <th>temp_C_whole</th>\n",
       "      <th>temp_F</th>\n",
       "      <th>temp_F_whole</th>\n",
       "    </tr>\n",
       "  </thead>\n",
       "  <tbody>\n",
       "    <tr>\n",
       "      <th>0</th>\n",
       "      <td>0</td>\n",
       "      <td>H,,S,</td>\n",
       "      <td>TAVG</td>\n",
       "      <td>2018-10-01</td>\n",
       "      <td>GHCND:USW00014732</td>\n",
       "      <td>21.2</td>\n",
       "      <td>21</td>\n",
       "      <td>70.16</td>\n",
       "      <td>70</td>\n",
       "    </tr>\n",
       "    <tr>\n",
       "      <th>1</th>\n",
       "      <td>3</td>\n",
       "      <td>H,,S,</td>\n",
       "      <td>TAVG</td>\n",
       "      <td>2018-10-02</td>\n",
       "      <td>GHCND:USW00014732</td>\n",
       "      <td>22.7</td>\n",
       "      <td>22</td>\n",
       "      <td>72.86</td>\n",
       "      <td>72</td>\n",
       "    </tr>\n",
       "    <tr>\n",
       "      <th>2</th>\n",
       "      <td>6</td>\n",
       "      <td>H,,S,</td>\n",
       "      <td>TAVG</td>\n",
       "      <td>2018-10-03</td>\n",
       "      <td>GHCND:USW00014732</td>\n",
       "      <td>21.8</td>\n",
       "      <td>21</td>\n",
       "      <td>71.24</td>\n",
       "      <td>71</td>\n",
       "    </tr>\n",
       "    <tr>\n",
       "      <th>3</th>\n",
       "      <td>9</td>\n",
       "      <td>H,,S,</td>\n",
       "      <td>TAVG</td>\n",
       "      <td>2018-10-04</td>\n",
       "      <td>GHCND:USW00014732</td>\n",
       "      <td>21.3</td>\n",
       "      <td>21</td>\n",
       "      <td>70.34</td>\n",
       "      <td>70</td>\n",
       "    </tr>\n",
       "    <tr>\n",
       "      <th>4</th>\n",
       "      <td>12</td>\n",
       "      <td>H,,S,</td>\n",
       "      <td>TAVG</td>\n",
       "      <td>2018-10-05</td>\n",
       "      <td>GHCND:USW00014732</td>\n",
       "      <td>20.3</td>\n",
       "      <td>20</td>\n",
       "      <td>68.54</td>\n",
       "      <td>68</td>\n",
       "    </tr>\n",
       "  </tbody>\n",
       "</table>\n",
       "</div>"
      ],
      "text/plain": [
       "   index  flags datatype       date            station  temp_C  temp_C_whole  \\\n",
       "0      0  H,,S,     TAVG 2018-10-01  GHCND:USW00014732    21.2            21   \n",
       "1      3  H,,S,     TAVG 2018-10-02  GHCND:USW00014732    22.7            22   \n",
       "2      6  H,,S,     TAVG 2018-10-03  GHCND:USW00014732    21.8            21   \n",
       "3      9  H,,S,     TAVG 2018-10-04  GHCND:USW00014732    21.3            21   \n",
       "4     12  H,,S,     TAVG 2018-10-05  GHCND:USW00014732    20.3            20   \n",
       "\n",
       "   temp_F  temp_F_whole  \n",
       "0   70.16            70  \n",
       "1   72.86            72  \n",
       "2   71.24            71  \n",
       "3   70.34            70  \n",
       "4   68.54            68  "
      ]
     },
     "execution_count": 65,
     "metadata": {},
     "output_type": "execute_result"
    }
   ],
   "source": [
    "df[df.datatype == 'TAVG'].head().reset_index()"
   ]
  },
  {
   "cell_type": "markdown",
   "metadata": {},
   "source": [
    "Let's set the `date` column as our index:"
   ]
  },
  {
   "cell_type": "code",
   "execution_count": 66,
   "metadata": {},
   "outputs": [
    {
     "data": {
      "text/html": [
       "<div>\n",
       "<style scoped>\n",
       "    .dataframe tbody tr th:only-of-type {\n",
       "        vertical-align: middle;\n",
       "    }\n",
       "\n",
       "    .dataframe tbody tr th {\n",
       "        vertical-align: top;\n",
       "    }\n",
       "\n",
       "    .dataframe thead th {\n",
       "        text-align: right;\n",
       "    }\n",
       "</style>\n",
       "<table border=\"1\" class=\"dataframe\">\n",
       "  <thead>\n",
       "    <tr style=\"text-align: right;\">\n",
       "      <th></th>\n",
       "      <th>flags</th>\n",
       "      <th>datatype</th>\n",
       "      <th>station</th>\n",
       "      <th>temp_C</th>\n",
       "      <th>temp_C_whole</th>\n",
       "      <th>temp_F</th>\n",
       "      <th>temp_F_whole</th>\n",
       "    </tr>\n",
       "    <tr>\n",
       "      <th>date</th>\n",
       "      <th></th>\n",
       "      <th></th>\n",
       "      <th></th>\n",
       "      <th></th>\n",
       "      <th></th>\n",
       "      <th></th>\n",
       "      <th></th>\n",
       "    </tr>\n",
       "  </thead>\n",
       "  <tbody>\n",
       "    <tr>\n",
       "      <th>2018-10-01</th>\n",
       "      <td>H,,S,</td>\n",
       "      <td>TAVG</td>\n",
       "      <td>GHCND:USW00014732</td>\n",
       "      <td>21.2</td>\n",
       "      <td>21</td>\n",
       "      <td>70.16</td>\n",
       "      <td>70</td>\n",
       "    </tr>\n",
       "    <tr>\n",
       "      <th>2018-10-01</th>\n",
       "      <td>,,W,2400</td>\n",
       "      <td>TMAX</td>\n",
       "      <td>GHCND:USW00014732</td>\n",
       "      <td>25.6</td>\n",
       "      <td>25</td>\n",
       "      <td>78.08</td>\n",
       "      <td>78</td>\n",
       "    </tr>\n",
       "    <tr>\n",
       "      <th>2018-10-01</th>\n",
       "      <td>,,W,2400</td>\n",
       "      <td>TMIN</td>\n",
       "      <td>GHCND:USW00014732</td>\n",
       "      <td>18.3</td>\n",
       "      <td>18</td>\n",
       "      <td>64.94</td>\n",
       "      <td>64</td>\n",
       "    </tr>\n",
       "    <tr>\n",
       "      <th>2018-10-02</th>\n",
       "      <td>H,,S,</td>\n",
       "      <td>TAVG</td>\n",
       "      <td>GHCND:USW00014732</td>\n",
       "      <td>22.7</td>\n",
       "      <td>22</td>\n",
       "      <td>72.86</td>\n",
       "      <td>72</td>\n",
       "    </tr>\n",
       "    <tr>\n",
       "      <th>2018-10-02</th>\n",
       "      <td>,,W,2400</td>\n",
       "      <td>TMAX</td>\n",
       "      <td>GHCND:USW00014732</td>\n",
       "      <td>26.1</td>\n",
       "      <td>26</td>\n",
       "      <td>78.98</td>\n",
       "      <td>78</td>\n",
       "    </tr>\n",
       "  </tbody>\n",
       "</table>\n",
       "</div>"
      ],
      "text/plain": [
       "               flags datatype            station  temp_C  temp_C_whole  \\\n",
       "date                                                                     \n",
       "2018-10-01     H,,S,     TAVG  GHCND:USW00014732    21.2            21   \n",
       "2018-10-01  ,,W,2400     TMAX  GHCND:USW00014732    25.6            25   \n",
       "2018-10-01  ,,W,2400     TMIN  GHCND:USW00014732    18.3            18   \n",
       "2018-10-02     H,,S,     TAVG  GHCND:USW00014732    22.7            22   \n",
       "2018-10-02  ,,W,2400     TMAX  GHCND:USW00014732    26.1            26   \n",
       "\n",
       "            temp_F  temp_F_whole  \n",
       "date                              \n",
       "2018-10-01   70.16            70  \n",
       "2018-10-01   78.08            78  \n",
       "2018-10-01   64.94            64  \n",
       "2018-10-02   72.86            72  \n",
       "2018-10-02   78.98            78  "
      ]
     },
     "execution_count": 66,
     "metadata": {},
     "output_type": "execute_result"
    }
   ],
   "source": [
    "df.set_index('date', inplace=True)\n",
    "df.head()"
   ]
  },
  {
   "cell_type": "markdown",
   "metadata": {},
   "source": [
    "Now that we have a `DatetimeIndex`, we can do datetime slicing. As long as we provide a date format that pandas understands, we can grab the data. To select all of 2018, we simply use `df['2018']`, for the third quarter of 2018 we can use `['2018-Q3']`, grabbing October is as simple as using `df['2018-10']`; these can also be combined to build ranges. Let's grab October 11, 2018 through October 12, 2018 (inclusive of both endpoints):"
   ]
  },
  {
   "cell_type": "code",
   "execution_count": 67,
   "metadata": {},
   "outputs": [
    {
     "data": {
      "text/html": [
       "<div>\n",
       "<style scoped>\n",
       "    .dataframe tbody tr th:only-of-type {\n",
       "        vertical-align: middle;\n",
       "    }\n",
       "\n",
       "    .dataframe tbody tr th {\n",
       "        vertical-align: top;\n",
       "    }\n",
       "\n",
       "    .dataframe thead th {\n",
       "        text-align: right;\n",
       "    }\n",
       "</style>\n",
       "<table border=\"1\" class=\"dataframe\">\n",
       "  <thead>\n",
       "    <tr style=\"text-align: right;\">\n",
       "      <th></th>\n",
       "      <th>flags</th>\n",
       "      <th>datatype</th>\n",
       "      <th>station</th>\n",
       "      <th>temp_C</th>\n",
       "      <th>temp_C_whole</th>\n",
       "      <th>temp_F</th>\n",
       "      <th>temp_F_whole</th>\n",
       "    </tr>\n",
       "    <tr>\n",
       "      <th>date</th>\n",
       "      <th></th>\n",
       "      <th></th>\n",
       "      <th></th>\n",
       "      <th></th>\n",
       "      <th></th>\n",
       "      <th></th>\n",
       "      <th></th>\n",
       "    </tr>\n",
       "  </thead>\n",
       "  <tbody>\n",
       "    <tr>\n",
       "      <th>2018-10-11</th>\n",
       "      <td>H,,S,</td>\n",
       "      <td>TAVG</td>\n",
       "      <td>GHCND:USW00014732</td>\n",
       "      <td>23.4</td>\n",
       "      <td>23</td>\n",
       "      <td>74.12</td>\n",
       "      <td>74</td>\n",
       "    </tr>\n",
       "    <tr>\n",
       "      <th>2018-10-11</th>\n",
       "      <td>,,W,2400</td>\n",
       "      <td>TMAX</td>\n",
       "      <td>GHCND:USW00014732</td>\n",
       "      <td>26.7</td>\n",
       "      <td>26</td>\n",
       "      <td>80.06</td>\n",
       "      <td>80</td>\n",
       "    </tr>\n",
       "    <tr>\n",
       "      <th>2018-10-11</th>\n",
       "      <td>,,W,2400</td>\n",
       "      <td>TMIN</td>\n",
       "      <td>GHCND:USW00014732</td>\n",
       "      <td>21.7</td>\n",
       "      <td>21</td>\n",
       "      <td>71.06</td>\n",
       "      <td>71</td>\n",
       "    </tr>\n",
       "    <tr>\n",
       "      <th>2018-10-12</th>\n",
       "      <td>H,,S,</td>\n",
       "      <td>TAVG</td>\n",
       "      <td>GHCND:USW00014732</td>\n",
       "      <td>18.3</td>\n",
       "      <td>18</td>\n",
       "      <td>64.94</td>\n",
       "      <td>64</td>\n",
       "    </tr>\n",
       "    <tr>\n",
       "      <th>2018-10-12</th>\n",
       "      <td>,,W,2400</td>\n",
       "      <td>TMAX</td>\n",
       "      <td>GHCND:USW00014732</td>\n",
       "      <td>22.2</td>\n",
       "      <td>22</td>\n",
       "      <td>71.96</td>\n",
       "      <td>71</td>\n",
       "    </tr>\n",
       "    <tr>\n",
       "      <th>2018-10-12</th>\n",
       "      <td>,,W,2400</td>\n",
       "      <td>TMIN</td>\n",
       "      <td>GHCND:USW00014732</td>\n",
       "      <td>12.2</td>\n",
       "      <td>12</td>\n",
       "      <td>53.96</td>\n",
       "      <td>53</td>\n",
       "    </tr>\n",
       "  </tbody>\n",
       "</table>\n",
       "</div>"
      ],
      "text/plain": [
       "               flags datatype            station  temp_C  temp_C_whole  \\\n",
       "date                                                                     \n",
       "2018-10-11     H,,S,     TAVG  GHCND:USW00014732    23.4            23   \n",
       "2018-10-11  ,,W,2400     TMAX  GHCND:USW00014732    26.7            26   \n",
       "2018-10-11  ,,W,2400     TMIN  GHCND:USW00014732    21.7            21   \n",
       "2018-10-12     H,,S,     TAVG  GHCND:USW00014732    18.3            18   \n",
       "2018-10-12  ,,W,2400     TMAX  GHCND:USW00014732    22.2            22   \n",
       "2018-10-12  ,,W,2400     TMIN  GHCND:USW00014732    12.2            12   \n",
       "\n",
       "            temp_F  temp_F_whole  \n",
       "date                              \n",
       "2018-10-11   74.12            74  \n",
       "2018-10-11   80.06            80  \n",
       "2018-10-11   71.06            71  \n",
       "2018-10-12   64.94            64  \n",
       "2018-10-12   71.96            71  \n",
       "2018-10-12   53.96            53  "
      ]
     },
     "execution_count": 67,
     "metadata": {},
     "output_type": "execute_result"
    }
   ],
   "source": [
    "df['2018-10-11':'2018-10-12']"
   ]
  },
  {
   "cell_type": "markdown",
   "metadata": {},
   "source": [
    "Reindexing allows us to conform our axis to contain a given set of labels. Let's turn to the S&P 500 stock data in the `data/sp500.csv` file to see an example of this. Notice we only have data for trading days (weekdays, excluding holidays):"
   ]
  },
  {
   "cell_type": "code",
   "execution_count": 68,
   "metadata": {},
   "outputs": [],
   "source": [
    "sp = pd.read_csv(\n",
    "    'data/sp500.csv', index_col='date', parse_dates=True\n",
    ").drop(columns=['adj_close'])"
   ]
  },
  {
   "cell_type": "code",
   "execution_count": 70,
   "metadata": {},
   "outputs": [
    {
     "data": {
      "text/html": [
       "<div>\n",
       "<style scoped>\n",
       "    .dataframe tbody tr th:only-of-type {\n",
       "        vertical-align: middle;\n",
       "    }\n",
       "\n",
       "    .dataframe tbody tr th {\n",
       "        vertical-align: top;\n",
       "    }\n",
       "\n",
       "    .dataframe thead th {\n",
       "        text-align: right;\n",
       "    }\n",
       "</style>\n",
       "<table border=\"1\" class=\"dataframe\">\n",
       "  <thead>\n",
       "    <tr style=\"text-align: right;\">\n",
       "      <th></th>\n",
       "      <th>high</th>\n",
       "      <th>low</th>\n",
       "      <th>open</th>\n",
       "      <th>close</th>\n",
       "      <th>volume</th>\n",
       "    </tr>\n",
       "    <tr>\n",
       "      <th>date</th>\n",
       "      <th></th>\n",
       "      <th></th>\n",
       "      <th></th>\n",
       "      <th></th>\n",
       "      <th></th>\n",
       "    </tr>\n",
       "  </thead>\n",
       "  <tbody>\n",
       "    <tr>\n",
       "      <th>2017-01-03</th>\n",
       "      <td>2263.879883</td>\n",
       "      <td>2245.129883</td>\n",
       "      <td>2251.570068</td>\n",
       "      <td>2257.830078</td>\n",
       "      <td>3770530000</td>\n",
       "    </tr>\n",
       "    <tr>\n",
       "      <th>2017-01-04</th>\n",
       "      <td>2272.820068</td>\n",
       "      <td>2261.600098</td>\n",
       "      <td>2261.600098</td>\n",
       "      <td>2270.750000</td>\n",
       "      <td>3764890000</td>\n",
       "    </tr>\n",
       "    <tr>\n",
       "      <th>2017-01-05</th>\n",
       "      <td>2271.500000</td>\n",
       "      <td>2260.449951</td>\n",
       "      <td>2268.179932</td>\n",
       "      <td>2269.000000</td>\n",
       "      <td>3761820000</td>\n",
       "    </tr>\n",
       "    <tr>\n",
       "      <th>2017-01-06</th>\n",
       "      <td>2282.100098</td>\n",
       "      <td>2264.060059</td>\n",
       "      <td>2271.139893</td>\n",
       "      <td>2276.979980</td>\n",
       "      <td>3339890000</td>\n",
       "    </tr>\n",
       "    <tr>\n",
       "      <th>2017-01-09</th>\n",
       "      <td>2275.489990</td>\n",
       "      <td>2268.899902</td>\n",
       "      <td>2273.590088</td>\n",
       "      <td>2268.899902</td>\n",
       "      <td>3217610000</td>\n",
       "    </tr>\n",
       "  </tbody>\n",
       "</table>\n",
       "</div>"
      ],
      "text/plain": [
       "                   high          low         open        close      volume\n",
       "date                                                                      \n",
       "2017-01-03  2263.879883  2245.129883  2251.570068  2257.830078  3770530000\n",
       "2017-01-04  2272.820068  2261.600098  2261.600098  2270.750000  3764890000\n",
       "2017-01-05  2271.500000  2260.449951  2268.179932  2269.000000  3761820000\n",
       "2017-01-06  2282.100098  2264.060059  2271.139893  2276.979980  3339890000\n",
       "2017-01-09  2275.489990  2268.899902  2273.590088  2268.899902  3217610000"
      ]
     },
     "execution_count": 70,
     "metadata": {},
     "output_type": "execute_result"
    }
   ],
   "source": [
    "sp.head()"
   ]
  },
  {
   "cell_type": "code",
   "execution_count": 71,
   "metadata": {},
   "outputs": [
    {
     "data": {
      "text/html": [
       "<div>\n",
       "<style scoped>\n",
       "    .dataframe tbody tr th:only-of-type {\n",
       "        vertical-align: middle;\n",
       "    }\n",
       "\n",
       "    .dataframe tbody tr th {\n",
       "        vertical-align: top;\n",
       "    }\n",
       "\n",
       "    .dataframe thead th {\n",
       "        text-align: right;\n",
       "    }\n",
       "</style>\n",
       "<table border=\"1\" class=\"dataframe\">\n",
       "  <thead>\n",
       "    <tr style=\"text-align: right;\">\n",
       "      <th></th>\n",
       "      <th>high</th>\n",
       "      <th>low</th>\n",
       "      <th>open</th>\n",
       "      <th>close</th>\n",
       "      <th>volume</th>\n",
       "      <th>day_of_week</th>\n",
       "    </tr>\n",
       "    <tr>\n",
       "      <th>date</th>\n",
       "      <th></th>\n",
       "      <th></th>\n",
       "      <th></th>\n",
       "      <th></th>\n",
       "      <th></th>\n",
       "      <th></th>\n",
       "    </tr>\n",
       "  </thead>\n",
       "  <tbody>\n",
       "    <tr>\n",
       "      <th>2017-01-03</th>\n",
       "      <td>2263.879883</td>\n",
       "      <td>2245.129883</td>\n",
       "      <td>2251.570068</td>\n",
       "      <td>2257.830078</td>\n",
       "      <td>3770530000</td>\n",
       "      <td>Tuesday</td>\n",
       "    </tr>\n",
       "    <tr>\n",
       "      <th>2017-01-04</th>\n",
       "      <td>2272.820068</td>\n",
       "      <td>2261.600098</td>\n",
       "      <td>2261.600098</td>\n",
       "      <td>2270.750000</td>\n",
       "      <td>3764890000</td>\n",
       "      <td>Wednesday</td>\n",
       "    </tr>\n",
       "    <tr>\n",
       "      <th>2017-01-05</th>\n",
       "      <td>2271.500000</td>\n",
       "      <td>2260.449951</td>\n",
       "      <td>2268.179932</td>\n",
       "      <td>2269.000000</td>\n",
       "      <td>3761820000</td>\n",
       "      <td>Thursday</td>\n",
       "    </tr>\n",
       "    <tr>\n",
       "      <th>2017-01-06</th>\n",
       "      <td>2282.100098</td>\n",
       "      <td>2264.060059</td>\n",
       "      <td>2271.139893</td>\n",
       "      <td>2276.979980</td>\n",
       "      <td>3339890000</td>\n",
       "      <td>Friday</td>\n",
       "    </tr>\n",
       "    <tr>\n",
       "      <th>2017-01-09</th>\n",
       "      <td>2275.489990</td>\n",
       "      <td>2268.899902</td>\n",
       "      <td>2273.590088</td>\n",
       "      <td>2268.899902</td>\n",
       "      <td>3217610000</td>\n",
       "      <td>Monday</td>\n",
       "    </tr>\n",
       "    <tr>\n",
       "      <th>2017-01-10</th>\n",
       "      <td>2279.270020</td>\n",
       "      <td>2265.270020</td>\n",
       "      <td>2269.719971</td>\n",
       "      <td>2268.899902</td>\n",
       "      <td>3638790000</td>\n",
       "      <td>Tuesday</td>\n",
       "    </tr>\n",
       "    <tr>\n",
       "      <th>2017-01-11</th>\n",
       "      <td>2275.320068</td>\n",
       "      <td>2260.830078</td>\n",
       "      <td>2268.600098</td>\n",
       "      <td>2275.320068</td>\n",
       "      <td>3620410000</td>\n",
       "      <td>Wednesday</td>\n",
       "    </tr>\n",
       "    <tr>\n",
       "      <th>2017-01-12</th>\n",
       "      <td>2271.780029</td>\n",
       "      <td>2254.250000</td>\n",
       "      <td>2271.139893</td>\n",
       "      <td>2270.439941</td>\n",
       "      <td>3462130000</td>\n",
       "      <td>Thursday</td>\n",
       "    </tr>\n",
       "    <tr>\n",
       "      <th>2017-01-13</th>\n",
       "      <td>2278.679932</td>\n",
       "      <td>2271.510010</td>\n",
       "      <td>2272.739990</td>\n",
       "      <td>2274.639893</td>\n",
       "      <td>3081270000</td>\n",
       "      <td>Friday</td>\n",
       "    </tr>\n",
       "    <tr>\n",
       "      <th>2017-01-17</th>\n",
       "      <td>2272.080078</td>\n",
       "      <td>2262.810059</td>\n",
       "      <td>2269.139893</td>\n",
       "      <td>2267.889893</td>\n",
       "      <td>3584990000</td>\n",
       "      <td>Tuesday</td>\n",
       "    </tr>\n",
       "  </tbody>\n",
       "</table>\n",
       "</div>"
      ],
      "text/plain": [
       "                   high          low         open        close      volume  \\\n",
       "date                                                                         \n",
       "2017-01-03  2263.879883  2245.129883  2251.570068  2257.830078  3770530000   \n",
       "2017-01-04  2272.820068  2261.600098  2261.600098  2270.750000  3764890000   \n",
       "2017-01-05  2271.500000  2260.449951  2268.179932  2269.000000  3761820000   \n",
       "2017-01-06  2282.100098  2264.060059  2271.139893  2276.979980  3339890000   \n",
       "2017-01-09  2275.489990  2268.899902  2273.590088  2268.899902  3217610000   \n",
       "2017-01-10  2279.270020  2265.270020  2269.719971  2268.899902  3638790000   \n",
       "2017-01-11  2275.320068  2260.830078  2268.600098  2275.320068  3620410000   \n",
       "2017-01-12  2271.780029  2254.250000  2271.139893  2270.439941  3462130000   \n",
       "2017-01-13  2278.679932  2271.510010  2272.739990  2274.639893  3081270000   \n",
       "2017-01-17  2272.080078  2262.810059  2269.139893  2267.889893  3584990000   \n",
       "\n",
       "           day_of_week  \n",
       "date                    \n",
       "2017-01-03     Tuesday  \n",
       "2017-01-04   Wednesday  \n",
       "2017-01-05    Thursday  \n",
       "2017-01-06      Friday  \n",
       "2017-01-09      Monday  \n",
       "2017-01-10     Tuesday  \n",
       "2017-01-11   Wednesday  \n",
       "2017-01-12    Thursday  \n",
       "2017-01-13      Friday  \n",
       "2017-01-17     Tuesday  "
      ]
     },
     "execution_count": 71,
     "metadata": {},
     "output_type": "execute_result"
    }
   ],
   "source": [
    "sp.head(10).assign(\n",
    "    day_of_week=lambda x: x.index.day_name()\n",
    ")"
   ]
  },
  {
   "cell_type": "markdown",
   "metadata": {},
   "source": [
    "If we want to look at the value of a portfolio (group of assets) that trade on different days, we need to handle the mismatch in the index. Bitcoin, for example, trades daily. If we sum up all the data we have for each day (aggregations will be covered in [chapter 4](https://github.com/stefmolin/Hands-On-Data-Analysis-with-Pandas/tree/master/ch_04), so don't fixate on this part), we get the following:"
   ]
  },
  {
   "cell_type": "code",
   "execution_count": null,
   "metadata": {},
   "outputs": [],
   "source": [
    "bitcoin = pd.read_csv(\n",
    "    'data/bitcoin.csv', index_col='date', parse_dates=True\n",
    ").drop(columns=['market_cap'])\n",
    "\n",
    "# every day's closing price = S&P 500 close + Bitcoin close (same for other metrics)\n",
    "portfolio = pd.concat(\n",
    "    [sp, bitcoin], sort=False\n",
    ").groupby(pd.Grouper(freq='D')).sum()\n",
    "\n",
    "portfolio.head(10).assign(\n",
    "    day_of_week=lambda x: x.index.day_name()\n",
    ")"
   ]
  },
  {
   "cell_type": "markdown",
   "metadata": {},
   "source": [
    "It may not be immediately obvious what is wrong with the previous data, but with a visualization we can easily see the cyclical pattern of drops on the days the stock market is closed. (Don't worry about the plotting code too much, we will cover it in depth in chapters [5](https://github.com/stefmolin/Hands-On-Data-Analysis-with-Pandas/tree/master/ch_05) and [6](https://github.com/stefmolin/Hands-On-Data-Analysis-with-Pandas/tree/master/ch_06)).\n",
    "\n",
    "We will need to import `matplotlib` now:"
   ]
  },
  {
   "cell_type": "code",
   "execution_count": null,
   "metadata": {},
   "outputs": [],
   "source": [
    "import matplotlib.pyplot as plt # we use this module for plotting"
   ]
  },
  {
   "cell_type": "markdown",
   "metadata": {},
   "source": [
    "Now we can see why we need to reindex:"
   ]
  },
  {
   "cell_type": "code",
   "execution_count": null,
   "metadata": {},
   "outputs": [],
   "source": [
    "portfolio['2017-Q4':'2018-Q2'].plot(\n",
    "    y='close', figsize=(15, 5), legend=False,\n",
    "    title='Bitcoin + S&P 500 value without accounting for different indices'\n",
    ") # plot the closing price from Q4 2017 through Q2 2018\n",
    "plt.ylabel('price ($)') # label the y-axis\n",
    "plt.show() # show the plot"
   ]
  },
  {
   "cell_type": "markdown",
   "metadata": {},
   "source": [
    "We need to align the index of the S&P 500 to match bitcoin in order to fix this. We will use the `reindex()` method, but by default we get `NaN` for the values that we don't have data for:"
   ]
  },
  {
   "cell_type": "code",
   "execution_count": null,
   "metadata": {},
   "outputs": [],
   "source": [
    "sp.reindex(bitcoin.index).head(10).assign(\n",
    "    day_of_week=lambda x: x.index.day_name()\n",
    ")"
   ]
  },
  {
   "cell_type": "markdown",
   "metadata": {},
   "source": [
    "So now we have rows for every day of the year, but all the weekends and holidays have `NaN` values. To address this, we can specify how to handle missing values with the `method` argument. In this case, we want to forward fill, which will put the weekend and holiday values as the value they had for the Friday (or end of trading week) before:"
   ]
  },
  {
   "cell_type": "code",
   "execution_count": null,
   "metadata": {},
   "outputs": [],
   "source": [
    "sp.reindex(\n",
    "    bitcoin.index, method='ffill'\n",
    ").head(10).assign(\n",
    "    day_of_week=lambda x: x.index.day_name()\n",
    ")"
   ]
  },
  {
   "cell_type": "markdown",
   "metadata": {},
   "source": [
    "This isn't perfect though. We probably want 0 for the volume traded and to put the closing price for the open, high, low, and close on the days the market is closed:"
   ]
  },
  {
   "cell_type": "code",
   "execution_count": null,
   "metadata": {},
   "outputs": [],
   "source": [
    "import numpy as np\n",
    "\n",
    "sp_reindexed = sp.reindex(\n",
    "    bitcoin.index\n",
    ").assign(\n",
    "    volume=lambda x: x.volume.fillna(0), # put 0 when market is closed\n",
    "    close=lambda x: x.close.fillna(method='ffill'), # carry this forward\n",
    "    # take the closing price if these aren't available\n",
    "    open=lambda x: np.where(x.open.isnull(), x.close, x.open),\n",
    "    high=lambda x: np.where(x.high.isnull(), x.close, x.high),\n",
    "    low=lambda x: np.where(x.low.isnull(), x.close, x.low)\n",
    ")\n",
    "sp_reindexed.head(10).assign(\n",
    "    day_of_week=lambda x: x.index.day_name()\n",
    ")"
   ]
  },
  {
   "cell_type": "markdown",
   "metadata": {},
   "source": [
    "If we create visualization comparing the reindexed data to the first attempt, we see how reindexing helped maintain the asset value when the market was closed:"
   ]
  },
  {
   "cell_type": "code",
   "execution_count": null,
   "metadata": {},
   "outputs": [],
   "source": [
    "# every day's closing price = S&P 500 close adjusted for market closure + Bitcoin close (same for other metrics)\n",
    "fixed_portfolio = pd.concat([sp_reindexed, bitcoin], sort=False).groupby(pd.Grouper(freq='D')).sum()\n",
    "\n",
    "ax = fixed_portfolio['2017-Q4':'2018-Q2'].plot(\n",
    "    y='close', label='reindexed portfolio of S&P 500 + Bitcoin', figsize=(15, 5), linewidth=2, \n",
    "    title='Reindexed portfolio vs. portfolio with mismatches indices'\n",
    ") # plot the reindexed portfolio's closing price from Q4 2017 through Q2 2018\n",
    "\n",
    "portfolio['2017-Q4':'2018-Q2'].plot(\n",
    "    y='close', ax=ax, linestyle='--', label='portfolio of S&P 500 + Bitcoin w/o reindexing'\n",
    ").set_ylabel('price ($)') # add line for original portfolio for comparison and label y-axis\n",
    "\n",
    "plt.show() # show the plot"
   ]
  }
 ],
 "metadata": {
  "kernelspec": {
   "display_name": "Python 3",
   "language": "python",
   "name": "python3"
  },
  "language_info": {
   "codemirror_mode": {
    "name": "ipython",
    "version": 3
   },
   "file_extension": ".py",
   "mimetype": "text/x-python",
   "name": "python",
   "nbconvert_exporter": "python",
   "pygments_lexer": "ipython3",
   "version": "3.7.3"
  }
 },
 "nbformat": 4,
 "nbformat_minor": 2
}

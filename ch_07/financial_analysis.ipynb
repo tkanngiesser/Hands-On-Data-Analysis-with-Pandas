{
 "cells": [
  {
   "cell_type": "markdown",
   "metadata": {},
   "source": [
    "# Financial Analysis with the `stock_analysis` package\n",
    "In this chapter we will build the [`stock_analysis` package](https://github.com/stefmolin/stock-analysis) using everything we learned in the book so far, and use it for some basic technical analysis of financial assets.\n",
    "\n",
    "## Data Extraction\n",
    "The `StockReader` class in the `stock_analysis` package makes it easy to collect financial data, like stock market or bitcoin prices. We simply have to create an instance by specifying the data range. Then, we can grab the data we wish:"
   ]
  },
  {
   "cell_type": "code",
   "execution_count": 6,
   "metadata": {},
   "outputs": [
    {
     "name": "stdout",
     "output_type": "stream",
     "text": [
      "Collecting git+https://github.com/stefmolin/stock-analysis.git@master\n",
      "  Cloning https://github.com/stefmolin/stock-analysis.git (to revision master) to /private/var/folders/sb/c6y3g1vx66scbk6ld_kzcxsh0000gn/T/pip-req-build-9tmge05r\n",
      "Requirement already satisfied (use --upgrade to upgrade): stock-analysis==0.1 from git+https://github.com/stefmolin/stock-analysis.git@master in /Library/Frameworks/Python.framework/Versions/3.7/lib/python3.7/site-packages\n",
      "Requirement already satisfied: matplotlib>=3.0.2 in /Library/Frameworks/Python.framework/Versions/3.7/lib/python3.7/site-packages (from stock-analysis==0.1) (3.0.3)\n",
      "Requirement already satisfied: numpy>=1.15.2 in /Library/Frameworks/Python.framework/Versions/3.7/lib/python3.7/site-packages (from stock-analysis==0.1) (1.16.2)\n",
      "Requirement already satisfied: pandas>=0.23.4 in /Library/Frameworks/Python.framework/Versions/3.7/lib/python3.7/site-packages (from stock-analysis==0.1) (0.24.2)\n",
      "Requirement already satisfied: pandas-datareader==0.7.0 in /Library/Frameworks/Python.framework/Versions/3.7/lib/python3.7/site-packages (from stock-analysis==0.1) (0.7.0)\n",
      "Requirement already satisfied: seaborn>=0.9.0 in /Library/Frameworks/Python.framework/Versions/3.7/lib/python3.7/site-packages (from stock-analysis==0.1) (0.9.0)\n",
      "Requirement already satisfied: statsmodels>=0.9.0 in /Library/Frameworks/Python.framework/Versions/3.7/lib/python3.7/site-packages (from stock-analysis==0.1) (0.9.0)\n",
      "Requirement already satisfied: pyparsing!=2.0.4,!=2.1.2,!=2.1.6,>=2.0.1 in /Library/Frameworks/Python.framework/Versions/3.7/lib/python3.7/site-packages (from matplotlib>=3.0.2->stock-analysis==0.1) (2.3.1)\n",
      "Requirement already satisfied: cycler>=0.10 in /Library/Frameworks/Python.framework/Versions/3.7/lib/python3.7/site-packages (from matplotlib>=3.0.2->stock-analysis==0.1) (0.10.0)\n",
      "Requirement already satisfied: kiwisolver>=1.0.1 in /Library/Frameworks/Python.framework/Versions/3.7/lib/python3.7/site-packages (from matplotlib>=3.0.2->stock-analysis==0.1) (1.0.1)\n",
      "Requirement already satisfied: python-dateutil>=2.1 in /Library/Frameworks/Python.framework/Versions/3.7/lib/python3.7/site-packages (from matplotlib>=3.0.2->stock-analysis==0.1) (2.8.0)\n",
      "Requirement already satisfied: pytz>=2011k in /Library/Frameworks/Python.framework/Versions/3.7/lib/python3.7/site-packages (from pandas>=0.23.4->stock-analysis==0.1) (2018.9)\n",
      "Requirement already satisfied: requests>=2.3.0 in /Library/Frameworks/Python.framework/Versions/3.7/lib/python3.7/site-packages (from pandas-datareader==0.7.0->stock-analysis==0.1) (2.21.0)\n",
      "Requirement already satisfied: wrapt in /Users/tinokanngiesser/Library/Python/3.7/lib/python/site-packages (from pandas-datareader==0.7.0->stock-analysis==0.1) (1.11.1)\n",
      "Requirement already satisfied: lxml in /Library/Frameworks/Python.framework/Versions/3.7/lib/python3.7/site-packages (from pandas-datareader==0.7.0->stock-analysis==0.1) (4.4.1)\n",
      "Requirement already satisfied: scipy>=0.14.0 in /Library/Frameworks/Python.framework/Versions/3.7/lib/python3.7/site-packages (from seaborn>=0.9.0->stock-analysis==0.1) (1.2.1)\n",
      "Requirement already satisfied: patsy in /Library/Frameworks/Python.framework/Versions/3.7/lib/python3.7/site-packages (from statsmodels>=0.9.0->stock-analysis==0.1) (0.5.1)\n",
      "Requirement already satisfied: six in /Library/Frameworks/Python.framework/Versions/3.7/lib/python3.7/site-packages (from cycler>=0.10->matplotlib>=3.0.2->stock-analysis==0.1) (1.12.0)\n",
      "Requirement already satisfied: setuptools in /Library/Frameworks/Python.framework/Versions/3.7/lib/python3.7/site-packages (from kiwisolver>=1.0.1->matplotlib>=3.0.2->stock-analysis==0.1) (40.6.2)\n",
      "Requirement already satisfied: urllib3<1.25,>=1.21.1 in /Library/Frameworks/Python.framework/Versions/3.7/lib/python3.7/site-packages (from requests>=2.3.0->pandas-datareader==0.7.0->stock-analysis==0.1) (1.24.1)\n",
      "Requirement already satisfied: chardet<3.1.0,>=3.0.2 in /Library/Frameworks/Python.framework/Versions/3.7/lib/python3.7/site-packages (from requests>=2.3.0->pandas-datareader==0.7.0->stock-analysis==0.1) (3.0.4)\n",
      "Requirement already satisfied: certifi>=2017.4.17 in /Library/Frameworks/Python.framework/Versions/3.7/lib/python3.7/site-packages (from requests>=2.3.0->pandas-datareader==0.7.0->stock-analysis==0.1) (2019.3.9)\n",
      "Requirement already satisfied: idna<2.9,>=2.5 in /Library/Frameworks/Python.framework/Versions/3.7/lib/python3.7/site-packages (from requests>=2.3.0->pandas-datareader==0.7.0->stock-analysis==0.1) (2.8)\n",
      "Building wheels for collected packages: stock-analysis\n",
      "  Running setup.py bdist_wheel for stock-analysis ... \u001b[?25ldone\n",
      "\u001b[?25h  Stored in directory: /private/var/folders/sb/c6y3g1vx66scbk6ld_kzcxsh0000gn/T/pip-ephem-wheel-cache-46ii44th/wheels/1c/fa/6a/def46c020b082a675eab6de594dcbe1c14e1a4ce51138e8763\n",
      "Successfully built stock-analysis\n",
      "\u001b[33mYou are using pip version 18.1, however version 19.2.3 is available.\n",
      "You should consider upgrading via the 'pip install --upgrade pip' command.\u001b[0m\n"
     ]
    }
   ],
   "source": [
    "!pip3 install git+https://github.com/stefmolin/stock-analysis.git@master"
   ]
  },
  {
   "cell_type": "code",
   "execution_count": 7,
   "metadata": {},
   "outputs": [
    {
     "ename": "ModuleNotFoundError",
     "evalue": "No module named 'stock_analysis'",
     "output_type": "error",
     "traceback": [
      "\u001b[0;31m---------------------------------------------------------------------------\u001b[0m",
      "\u001b[0;31mModuleNotFoundError\u001b[0m                       Traceback (most recent call last)",
      "\u001b[0;32m<ipython-input-7-ebc63263eecb>\u001b[0m in \u001b[0;36m<module>\u001b[0;34m\u001b[0m\n\u001b[0;32m----> 1\u001b[0;31m \u001b[0;32mimport\u001b[0m \u001b[0mstock_analysis\u001b[0m\u001b[0;34m\u001b[0m\u001b[0;34m\u001b[0m\u001b[0m\n\u001b[0m",
      "\u001b[0;31mModuleNotFoundError\u001b[0m: No module named 'stock_analysis'"
     ]
    }
   ],
   "source": [
    "import stock_analysis"
   ]
  },
  {
   "cell_type": "code",
   "execution_count": 8,
   "metadata": {},
   "outputs": [
    {
     "ename": "NameError",
     "evalue": "name 'stock_analysis' is not defined",
     "output_type": "error",
     "traceback": [
      "\u001b[0;31m---------------------------------------------------------------------------\u001b[0m",
      "\u001b[0;31mNameError\u001b[0m                                 Traceback (most recent call last)",
      "\u001b[0;32m<ipython-input-8-7d5f028ee25d>\u001b[0m in \u001b[0;36m<module>\u001b[0;34m\u001b[0m\n\u001b[0;32m----> 1\u001b[0;31m \u001b[0mreader\u001b[0m \u001b[0;34m=\u001b[0m \u001b[0mstock_analysis\u001b[0m\u001b[0;34m.\u001b[0m\u001b[0mStockReader\u001b[0m\u001b[0;34m(\u001b[0m\u001b[0;34m'2017-01-01'\u001b[0m\u001b[0;34m,\u001b[0m \u001b[0;34m'2018-12-31'\u001b[0m\u001b[0;34m)\u001b[0m\u001b[0;34m\u001b[0m\u001b[0;34m\u001b[0m\u001b[0m\n\u001b[0m\u001b[1;32m      2\u001b[0m \u001b[0;34m\u001b[0m\u001b[0m\n\u001b[1;32m      3\u001b[0m \u001b[0;31m# get bitcoin data\u001b[0m\u001b[0;34m\u001b[0m\u001b[0;34m\u001b[0m\u001b[0;34m\u001b[0m\u001b[0m\n\u001b[1;32m      4\u001b[0m \u001b[0mbitcoin\u001b[0m \u001b[0;34m=\u001b[0m \u001b[0mreader\u001b[0m\u001b[0;34m.\u001b[0m\u001b[0mget_bitcoin_data\u001b[0m\u001b[0;34m(\u001b[0m\u001b[0;34m)\u001b[0m\u001b[0;34m\u001b[0m\u001b[0;34m\u001b[0m\u001b[0m\n\u001b[1;32m      5\u001b[0m \u001b[0;34m\u001b[0m\u001b[0m\n",
      "\u001b[0;31mNameError\u001b[0m: name 'stock_analysis' is not defined"
     ]
    }
   ],
   "source": [
    "reader = stock_analysis.StockReader('2017-01-01', '2018-12-31')\n",
    "\n",
    "# get bitcoin data\n",
    "bitcoin = reader.get_bitcoin_data()\n",
    "\n",
    "# get faang data\n",
    "fb, aapl, amzn, nflx, goog = (\n",
    "    reader.get_ticker_data(ticker) for ticker in ['FB', 'AAPL', 'AMZN', 'NFLX', 'GOOG']\n",
    ")\n",
    "\n",
    "# get S&P 500 data\n",
    "sp = reader.get_index_data()"
   ]
  },
  {
   "cell_type": "markdown",
   "metadata": {},
   "source": [
    "## EDA\n",
    "We can group our assets together in dataframes in order to perform EDA:"
   ]
  },
  {
   "cell_type": "code",
   "execution_count": null,
   "metadata": {},
   "outputs": [],
   "source": [
    "from stock_analysis.utils import group_stocks, describe_group\n",
    "\n",
    "faang = group_stocks(\n",
    "    {\n",
    "        'Facebook' : fb, \n",
    "        'Apple' : aapl, \n",
    "        'Amazon' : amzn, \n",
    "        'Netflix' : nflx, \n",
    "        'Google' : goog\n",
    "    }\n",
    ")\n",
    "\n",
    "faang_sp = group_stocks(\n",
    "    {\n",
    "        'Facebook' : fb, \n",
    "        'Apple' : aapl, \n",
    "        'Amazon' : amzn, \n",
    "        'Netflix' : nflx, \n",
    "        'Google' : goog,\n",
    "        'S&P 500' : sp\n",
    "    }\n",
    ")\n",
    "\n",
    "bit_sp = group_stocks(\n",
    "    {\n",
    "        'Bitcoin' : bitcoin,\n",
    "        'S&P 500' : sp\n",
    "    }\n",
    ")\n",
    "\n",
    "all_assets = group_stocks(\n",
    "    {\n",
    "        'Bitcoin' : bitcoin,\n",
    "        'S&P 500' : sp,\n",
    "        'Facebook' : fb, \n",
    "        'Apple' : aapl, \n",
    "        'Amazon' : amzn, \n",
    "        'Netflix' : nflx, \n",
    "        'Google' : goog\n",
    "    }\n",
    ")"
   ]
  },
  {
   "cell_type": "markdown",
   "metadata": {},
   "source": [
    "This makes it easy to describe them all at once:"
   ]
  },
  {
   "cell_type": "code",
   "execution_count": null,
   "metadata": {},
   "outputs": [],
   "source": [
    "describe_group(all_assets).loc['close',]"
   ]
  },
  {
   "cell_type": "markdown",
   "metadata": {},
   "source": [
    "It's a dataframe so we can transpose it to view it easier. Here we see that we have more entries for bitcoin than the S&P 500 because bitcoin prices change daily."
   ]
  },
  {
   "cell_type": "code",
   "execution_count": null,
   "metadata": {},
   "outputs": [],
   "source": [
    "describe_group(bit_sp).loc['close',].T"
   ]
  },
  {
   "cell_type": "markdown",
   "metadata": {},
   "source": [
    "We can compare the FAANG stocks to each other:"
   ]
  },
  {
   "cell_type": "code",
   "execution_count": null,
   "metadata": {},
   "outputs": [],
   "source": [
    "describe_group(faang).loc[['close', 'volume'],]"
   ]
  },
  {
   "cell_type": "markdown",
   "metadata": {},
   "source": [
    "### Visualizations\n",
    "The `StockVisualizer` class makes it easy to create a variety of visualizations for financial analysis. We simply pass in the dataframe of the asset we want to visualize:"
   ]
  },
  {
   "cell_type": "code",
   "execution_count": null,
   "metadata": {},
   "outputs": [],
   "source": [
    "%matplotlib inline\n",
    "import matplotlib.pyplot as plt\n",
    "\n",
    "netflix_viz = stock_analysis.StockVisualizer(nflx)"
   ]
  },
  {
   "cell_type": "markdown",
   "metadata": {},
   "source": [
    "We can use the `pairplot()` method to see the `seaborn.pairplot()` of the OHLC data:"
   ]
  },
  {
   "cell_type": "code",
   "execution_count": null,
   "metadata": {},
   "outputs": [],
   "source": [
    "netflix_viz.pairplot()"
   ]
  },
  {
   "cell_type": "markdown",
   "metadata": {},
   "source": [
    "*Note: to look at quarterly performance in the pairplot as we did in [chapter 6](https://github.com/stefmolin/Hands-On-Data-Analysis-with-Pandas/blob/master/ch_06/1-introduction_to_seaborn.ipynb), add a `quarter` column to the Netflix dataframe before creating the `StockVisualizer` object and pass `hue='quarter'` to the `pairplot()` method.*\n",
    "\n",
    "We can plot the evolution of a column over time to see how the price changed and add reference lines as we please:"
   ]
  },
  {
   "cell_type": "code",
   "execution_count": null,
   "metadata": {},
   "outputs": [],
   "source": [
    "ax = netflix_viz.evolution_over_time(\n",
    "    'close', \n",
    "    figsize=(10, 4), \n",
    "    legend=False, \n",
    "    title='Netflix closing price over time'\n",
    ")\n",
    "netflix_viz.add_reference_line(\n",
    "    ax, \n",
    "    x=nflx.high.idxmax(), \n",
    "    color='k', \n",
    "    linestyle=':', \n",
    "    label=f'highest value ({nflx.high.idxmax():%b %d})',\n",
    "    alpha=0.5\n",
    ")\n",
    "ax.set_ylabel('price ($)')"
   ]
  },
  {
   "cell_type": "markdown",
   "metadata": {},
   "source": [
    "July was a rough month for Netflix with after hours trading:"
   ]
  },
  {
   "cell_type": "code",
   "execution_count": null,
   "metadata": {},
   "outputs": [],
   "source": [
    "netflix_viz.after_hours_trades()"
   ]
  },
  {
   "cell_type": "markdown",
   "metadata": {},
   "source": [
    "Facebook had many more rough months:"
   ]
  },
  {
   "cell_type": "code",
   "execution_count": null,
   "metadata": {},
   "outputs": [],
   "source": [
    "# compare to FB\n",
    "stock_analysis.StockVisualizer(fb).after_hours_trades()"
   ]
  },
  {
   "cell_type": "markdown",
   "metadata": {},
   "source": [
    "We can look at the volume traded and stock price over time to see that while the Netflix stock price has trended up so has volume traded."
   ]
  },
  {
   "cell_type": "code",
   "execution_count": null,
   "metadata": {},
   "outputs": [],
   "source": [
    "netflix_viz.trade_volume(True)"
   ]
  },
  {
   "cell_type": "markdown",
   "metadata": {},
   "source": [
    "We can use the moving average to smooth out the trend for the stock. Notice the fall Netflix took in July pushed the moving averages below the stock price while they had been above the price in the past."
   ]
  },
  {
   "cell_type": "code",
   "execution_count": null,
   "metadata": {},
   "outputs": [],
   "source": [
    "ax = netflix_viz.moving_average('close', ['60D', '200D'])\n",
    "netflix_viz.shade_region(\n",
    "    ax, x=('2018-07-01', '2018-07-31'), color='blue', alpha=0.2\n",
    ")\n",
    "plt.suptitle('Netflix Closing Price')\n",
    "plt.ylabel('price ($)')"
   ]
  },
  {
   "cell_type": "markdown",
   "metadata": {},
   "source": [
    "The moving average may be used to determine support and resistance levels. Support exerts upward pressure on the stock price (lower prices get people to buy) and resistance exerts downward force on the stock price (high prices cause people to sell):"
   ]
  },
  {
   "cell_type": "code",
   "execution_count": null,
   "metadata": {},
   "outputs": [],
   "source": [
    "ax = stock_analysis.StockVisualizer(nflx['2018']).evolution_over_time(\n",
    "    'close', figsize=(15, 3), legend=False, title='Understanding support and resistance'\n",
    ")\n",
    "\n",
    "ref_lines = [\n",
    "    (315, 0.55, 0.77, 'g', 'support (buy now)'),\n",
    "    (250, 0.12, 0.17, 'g', ''),\n",
    "    (280, 0.25, 0.3, 'g', ''),\n",
    "    (280, 0.78, 0.83, 'g', ''),\n",
    "    (260, 0.85, 0.92, 'g', ''),\n",
    "    (230, 0.93, 0.96, 'g', ''),\n",
    "    (385, 0.46, 0.53, 'g', ''),\n",
    "    (420, 0.43, 0.55, 'r', 'resistance (sell now)'),\n",
    "    (285, 0.05, 0.16, 'r', ''),\n",
    "    (335, 0.17, 0.38, 'r', ''),\n",
    "    (385, 0.6, 0.77, 'r', ''),\n",
    "    (330, 0.8, 0.83, 'r', ''),\n",
    "    (290, 0.86, 0.96, 'r', '')\n",
    "]\n",
    "\n",
    "for y, xmin, xmax, color, label in ref_lines:\n",
    "    ax.axhline(y, xmin, xmax, color=color, label=label)\n",
    "\n",
    "arrows = [\n",
    "    ('2018-08-26', 315, 0, 20, 'g'),\n",
    "    ('2018-02-17', 250, 0, 10, 'g'),\n",
    "    ('2018-04-02', 290, 0, 20, 'g'),\n",
    "    ('2018-11-03', 280, 0, 10, 'g'),\n",
    "    ('2018-12-01', 260, 0, 10, 'g'),\n",
    "    ('2018-12-29', 230, 0, 10, 'g'),\n",
    "    ('2018-06-10', 385, 0, 20, 'g'),\n",
    "    ('2018-07-20', 420, 0, -20, 'r'),\n",
    "    ('2018-02-04', 285, 0, -10, 'r'),\n",
    "    ('2018-03-02', 335, 0, -10, 'r'),\n",
    "    ('2018-04-27', 335, 0, -10, 'r'),\n",
    "    ('2018-10-10', 385, 0, -10, 'r'),\n",
    "    ('2018-11-12', 330, 0, -10, 'r'),\n",
    "    ('2018-12-20', 290, 0, -10, 'r')\n",
    "]\n",
    "\n",
    "for date, y, growx, growy, color in arrows:\n",
    "    ax.arrow(date, y, growx, growy, width=2, alpha=0.5, color=color)\n",
    "\n",
    "plt.ylabel('price ($)')\n",
    "plt.legend()"
   ]
  },
  {
   "cell_type": "markdown",
   "metadata": {},
   "source": [
    "Sometimes exponential smoothing makes more sense because we can weight more recent values higher. Notice how the exponentially smoothed curves more closely track the stock price compared to the moving average with equally weighted observations (especially in the shaded region where the drop occurred):"
   ]
  },
  {
   "cell_type": "code",
   "execution_count": null,
   "metadata": {},
   "outputs": [],
   "source": [
    "ax = netflix_viz.exp_smoothing('close', [60, 200])\n",
    "q_3, q_4 = nflx.close.quantile([0.75, 1])\n",
    "netflix_viz.shade_region(\n",
    "    ax, y=(q_3, q_4), color='grey', alpha=0.2\n",
    ")\n",
    "plt.suptitle('Netflix Closing Price')\n",
    "plt.ylabel('price ($)')"
   ]
  },
  {
   "cell_type": "markdown",
   "metadata": {},
   "source": [
    "If you follow the installation instructions [here](https://github.com/matplotlib/jupyter-matplotlib), you can run the following interactive plot to see what different windows do to the moving average and exponentially smoothed moving average. This requires you to install `ipyml` and `node.js` and run a few commands from the command line as indicated in the aforementioned link. Note you will need to restart the kernel.\n",
    "\n",
    "*More information on the interact() function can be found [here](https://ipywidgets.readthedocs.io/en/stable/examples/Using%20Interact.html).*"
   ]
  },
  {
   "cell_type": "code",
   "execution_count": null,
   "metadata": {},
   "outputs": [],
   "source": [
    "%matplotlib widget\n",
    "from ipywidgets import interact\n",
    "\n",
    "def moving_averages(viz):\n",
    "    def plot_viz(period=20, exponentially_smoothed=False):\n",
    "        if exponentially_smoothed:\n",
    "            ax = netflix_viz.exp_smoothing('close', period)\n",
    "        else:\n",
    "            ax = netflix_viz.moving_average('close', str(period) + 'D')\n",
    "        netflix_viz.shade_region(\n",
    "            ax, x=('2018-07-01', '2018-07-31'), color='blue', alpha=0.2\n",
    "        )\n",
    "        \n",
    "        plt.suptitle('Neftlix Closing Price')\n",
    "        plt.ylabel('price ($)')\n",
    "    \n",
    "    return plot_viz\n",
    "interact(moving_averages(netflix_viz), period=(5, 200, 5), exponentially_smoothed=False);"
   ]
  },
  {
   "cell_type": "markdown",
   "metadata": {},
   "source": [
    "Switch back to `inline` plots:"
   ]
  },
  {
   "cell_type": "code",
   "execution_count": null,
   "metadata": {},
   "outputs": [],
   "source": [
    "%matplotlib inline"
   ]
  },
  {
   "cell_type": "markdown",
   "metadata": {},
   "source": [
    "Netflix hit its max and has been trending downward:"
   ]
  },
  {
   "cell_type": "code",
   "execution_count": null,
   "metadata": {},
   "outputs": [],
   "source": [
    "import numpy as np\n",
    "ax = netflix_viz.exp_smoothing('close', 60)\n",
    "netflix_viz.add_reference_line(\n",
    "    ax, y=nflx.high.max(), color='red', linestyle='-', label='max'\n",
    ")\n",
    "nflx_decline = nflx[nflx.high.idxmax():]\n",
    "netflix_viz.add_reference_line(\n",
    "    ax, \n",
    "    x=nflx_decline.index, \n",
    "    y=np.linspace(\n",
    "        nflx_decline.high.max(), \n",
    "        nflx_decline.low.min(), \n",
    "        num=nflx_decline.shape[0]\n",
    "    ), \n",
    "    color='r', \n",
    "    linestyle=':', \n",
    "    label='decline'\n",
    ")\n",
    "plt.suptitle('Netflix Closing Price')\n",
    "plt.ylabel('price ($)')"
   ]
  },
  {
   "cell_type": "markdown",
   "metadata": {},
   "source": [
    "We can use a joint plot to see how Netflix compared to the S&P 500:"
   ]
  },
  {
   "cell_type": "code",
   "execution_count": null,
   "metadata": {},
   "outputs": [],
   "source": [
    "netflix_viz.jointplot(sp, 'close')"
   ]
  },
  {
   "cell_type": "markdown",
   "metadata": {},
   "source": [
    "Netflix and Facebook both struggled in July, but their correlation is weak:"
   ]
  },
  {
   "cell_type": "code",
   "execution_count": null,
   "metadata": {},
   "outputs": [],
   "source": [
    "netflix_viz.correlation_heatmap(fb)"
   ]
  },
  {
   "cell_type": "markdown",
   "metadata": {},
   "source": [
    "We can see that Facebook and Netflix had similar stock prices in 2017, but Netflix really pulled ahead in 2018, despite taking a tumble (because Facebook did as well):"
   ]
  },
  {
   "cell_type": "code",
   "execution_count": null,
   "metadata": {},
   "outputs": [],
   "source": [
    "netflix_viz.fill_between_other(fb)"
   ]
  },
  {
   "cell_type": "markdown",
   "metadata": {},
   "source": [
    "If we want to visualize groups of assets we use the `AssetGroupVisualizer`:"
   ]
  },
  {
   "cell_type": "code",
   "execution_count": null,
   "metadata": {},
   "outputs": [],
   "source": [
    "faang_viz = stock_analysis.AssetGroupVisualizer(faang)"
   ]
  },
  {
   "cell_type": "markdown",
   "metadata": {},
   "source": [
    "We can view the effect that after hours trading had on each of the FAANG stocks:"
   ]
  },
  {
   "cell_type": "code",
   "execution_count": null,
   "metadata": {},
   "outputs": [],
   "source": [
    "faang_viz.after_hours_trades()"
   ]
  },
  {
   "cell_type": "markdown",
   "metadata": {},
   "source": [
    "We can look at what the exponentially smoothed moving averages look like for all FAANG stocks as well:"
   ]
  },
  {
   "cell_type": "code",
   "execution_count": null,
   "metadata": {},
   "outputs": [],
   "source": [
    "faang_viz.exp_smoothing('close', 20)"
   ]
  },
  {
   "cell_type": "markdown",
   "metadata": {},
   "source": [
    "With short windows, both these smoothing methods perform similarly:"
   ]
  },
  {
   "cell_type": "code",
   "execution_count": null,
   "metadata": {},
   "outputs": [],
   "source": [
    "faang_viz.moving_average('close', '20D')"
   ]
  },
  {
   "cell_type": "markdown",
   "metadata": {},
   "source": [
    "The distributions of closing price across the FAANG stocks are quite different:"
   ]
  },
  {
   "cell_type": "code",
   "execution_count": null,
   "metadata": {},
   "outputs": [],
   "source": [
    "faang_viz.histogram('close')"
   ]
  },
  {
   "cell_type": "markdown",
   "metadata": {},
   "source": [
    "Viewing boxplots we can easily see that Google and Amazon are on a much larger scale:"
   ]
  },
  {
   "cell_type": "code",
   "execution_count": null,
   "metadata": {},
   "outputs": [],
   "source": [
    "faang_viz.boxplot('close')\n",
    "plt.yscale('log')"
   ]
  },
  {
   "cell_type": "markdown",
   "metadata": {},
   "source": [
    "Plotting all the FAANG stocks' closing prices over time shows that early 2018 had a lot of growth for the lot of them:"
   ]
  },
  {
   "cell_type": "code",
   "execution_count": null,
   "metadata": {},
   "outputs": [],
   "source": [
    "faang_viz.evolution_over_time('close')"
   ]
  },
  {
   "cell_type": "markdown",
   "metadata": {},
   "source": [
    "Correlations between the stocks are weak, with the strongest being between Google and Amazon:"
   ]
  },
  {
   "cell_type": "code",
   "execution_count": null,
   "metadata": {},
   "outputs": [],
   "source": [
    "faang_viz.heatmap(True)"
   ]
  },
  {
   "cell_type": "markdown",
   "metadata": {},
   "source": [
    "We can view this information as scatter plots as well:"
   ]
  },
  {
   "cell_type": "code",
   "execution_count": null,
   "metadata": {},
   "outputs": [],
   "source": [
    "faang_viz.pairplot()"
   ]
  },
  {
   "cell_type": "markdown",
   "metadata": {},
   "source": [
    "Bitcoin is on a much larger scale so we have to use subplots to compare it to the stock market. Notice that bitcoin took a huge tumble (check out the scale on the y-axis):"
   ]
  },
  {
   "cell_type": "code",
   "execution_count": null,
   "metadata": {},
   "outputs": [],
   "source": [
    "faang_sp_viz = stock_analysis.AssetGroupVisualizer(faang_sp)\n",
    "bitcoin_viz = stock_analysis.StockVisualizer(bitcoin)\n",
    "\n",
    "fig, axes = plt.subplots(1, 2, figsize=(15, 5))\n",
    "faang_sp_viz.evolution_over_time('close', ax=axes[0])\n",
    "bitcoin_viz.evolution_over_time('close', ax=axes[1], label='Bitcoin')"
   ]
  },
  {
   "cell_type": "markdown",
   "metadata": {},
   "source": [
    "## Technical Analysis\n",
    "Technical analysis involves looking at metrics to understand the peformance of an asset.\n",
    "### Single Asset\n",
    "We can use the `StockAnalyzer` to calculate metrics for us:"
   ]
  },
  {
   "cell_type": "code",
   "execution_count": null,
   "metadata": {},
   "outputs": [],
   "source": [
    "nflx_analyzer = stock_analysis.StockAnalyzer(nflx)"
   ]
  },
  {
   "cell_type": "markdown",
   "metadata": {},
   "source": [
    "One such metric is annualized volatility:"
   ]
  },
  {
   "cell_type": "code",
   "execution_count": null,
   "metadata": {},
   "outputs": [],
   "source": [
    "nflx_analyzer.annualized_volatility()"
   ]
  },
  {
   "cell_type": "markdown",
   "metadata": {},
   "source": [
    "### Asset Groups\n",
    "When working with groups, we use the `AssetGroupAnalyzer`:"
   ]
  },
  {
   "cell_type": "code",
   "execution_count": null,
   "metadata": {},
   "outputs": [],
   "source": [
    "all_assets_analyzer = stock_analysis.AssetGroupAnalyzer(\n",
    "    all_assets\n",
    ")"
   ]
  },
  {
   "cell_type": "markdown",
   "metadata": {},
   "source": [
    "#### Coefficient of Variation\n",
    "We can check how large the standard deviation is in terms of the mean of the stock price as another way to look at volatility. This shows that bitcoin is the most volatile:"
   ]
  },
  {
   "cell_type": "code",
   "execution_count": null,
   "metadata": {},
   "outputs": [],
   "source": [
    "all_assets_analyzer.analyze('cv')"
   ]
  },
  {
   "cell_type": "markdown",
   "metadata": {},
   "source": [
    "#### Annualized Volatility\n",
    "Facebook looks more volatile using this metric than the previous, but it's just middle of the pack."
   ]
  },
  {
   "cell_type": "code",
   "execution_count": null,
   "metadata": {},
   "outputs": [],
   "source": [
    "all_assets_analyzer.analyze('annualized_volatility')"
   ]
  },
  {
   "cell_type": "markdown",
   "metadata": {},
   "source": [
    "#### Bear Market\n",
    "We can check if the assets are in a bear market, meaning their value dropped 20% in the last 2 months:"
   ]
  },
  {
   "cell_type": "code",
   "execution_count": null,
   "metadata": {},
   "outputs": [],
   "source": [
    "all_assets_analyzer.analyze('is_bear_market')"
   ]
  },
  {
   "cell_type": "markdown",
   "metadata": {},
   "source": [
    "#### Beta\n",
    "Beta tells us how the assets performance correlates to a market index. A beta of 1 with the S&P 500 means the asset moves with the S&P 500. Notice bitcoin is below zero because it is a different type of asset."
   ]
  },
  {
   "cell_type": "code",
   "execution_count": null,
   "metadata": {},
   "outputs": [],
   "source": [
    "all_assets_analyzer.analyze('beta', index=sp)"
   ]
  },
  {
   "cell_type": "markdown",
   "metadata": {},
   "source": [
    "#### Alpha\n",
    "Alpha allows us to compare the returns of an asset to an index. We can compare to the S&P 500 using a risk-free rate of return of 2.46% (current government treasury bond rate). This shows that Facebook has worse returns and bitcoin much higher than the S&P 500 (due to scale): "
   ]
  },
  {
   "cell_type": "code",
   "execution_count": null,
   "metadata": {},
   "outputs": [],
   "source": [
    "all_assets_analyzer.analyze('alpha', index=sp, r_f=2.46)"
   ]
  },
  {
   "cell_type": "markdown",
   "metadata": {},
   "source": [
    "#### Cumulative Returns\n",
    "Cumulative returns show us what we would have made for a dollar investment at time period 0. This can be multipled by the actual investment to get the return:"
   ]
  },
  {
   "cell_type": "code",
   "execution_count": null,
   "metadata": {},
   "outputs": [],
   "source": [
    "fig, axes = plt.subplots(1, 2, figsize=(15, 5))\n",
    "cumulative_returns = all_assets_analyzer.analyze(\n",
    "    'cumulative_returns'\n",
    ")\n",
    "for name, data in cumulative_returns.items():\n",
    "    data.plot(\n",
    "        ax=axes[0] if name == 'Bitcoin' else axes[1], \n",
    "        label=name,\n",
    "        legend=True\n",
    "    )\n",
    "plt.suptitle('Cumulative Returns 2017-2018')"
   ]
  },
  {
   "cell_type": "markdown",
   "metadata": {},
   "source": [
    "## Modeling\n",
    "For modeling tasks, we can use the `StockModeler`:"
   ]
  },
  {
   "cell_type": "code",
   "execution_count": null,
   "metadata": {},
   "outputs": [],
   "source": [
    "from stock_analysis import StockModeler"
   ]
  },
  {
   "cell_type": "markdown",
   "metadata": {},
   "source": [
    "### Time Series Decomposition\n",
    "We can decompose the Netflix time series into its trend, seasonality component, and residuals:"
   ]
  },
  {
   "cell_type": "code",
   "execution_count": null,
   "metadata": {},
   "outputs": [],
   "source": [
    "decomposition = StockModeler.decompose(nflx, 20) # 20 period frequency\n",
    "fig = decomposition.plot()\n",
    "fig.suptitle('Netflix Stock Price Time Series Decomposition', y=1)"
   ]
  },
  {
   "cell_type": "markdown",
   "metadata": {},
   "source": [
    "### ARIMA\n",
    "We can use ARIMA to model the performance with autoregressive (AR), differences or lagged data (I), and moving average (MA) terms. The autocorrelation plot can help find a good starting point for this:"
   ]
  },
  {
   "cell_type": "code",
   "execution_count": null,
   "metadata": {},
   "outputs": [],
   "source": [
    "# we can use autocorrelation plots to find a good starting point for ARIMA\n",
    "from pandas.plotting import autocorrelation_plot\n",
    "autocorrelation_plot(nflx)"
   ]
  },
  {
   "cell_type": "markdown",
   "metadata": {},
   "source": [
    "ARIMA takes a long time to train, so we will start with an AR of 10:"
   ]
  },
  {
   "cell_type": "code",
   "execution_count": null,
   "metadata": {},
   "outputs": [],
   "source": [
    "# this takes a long time to run, so we will start with a smaller AR of 10\n",
    "arima_model = StockModeler.arima(nflx, ar=10, i=1, ma=5)"
   ]
  },
  {
   "cell_type": "markdown",
   "metadata": {},
   "source": [
    "The `summary()` method shows statistics on the model's performance:"
   ]
  },
  {
   "cell_type": "code",
   "execution_count": null,
   "metadata": {},
   "outputs": [],
   "source": [
    "# AR = 10, I = 1, MA = 5\n",
    "print(arima_model.summary())"
   ]
  },
  {
   "cell_type": "markdown",
   "metadata": {},
   "source": [
    "The residuals appear to be normally distributed; however, their size appears to depend on time, so this is not a good model:"
   ]
  },
  {
   "cell_type": "code",
   "execution_count": null,
   "metadata": {},
   "outputs": [],
   "source": [
    "StockModeler.plot_residuals(arima_model)"
   ]
  },
  {
   "cell_type": "markdown",
   "metadata": {},
   "source": [
    "### Linear Regression\n",
    "We can build a linear regression using the last value to determine the next value:"
   ]
  },
  {
   "cell_type": "code",
   "execution_count": null,
   "metadata": {},
   "outputs": [],
   "source": [
    "X, Y, lm = StockModeler.regression(nflx)\n",
    "print(lm.summary())"
   ]
  },
  {
   "cell_type": "markdown",
   "metadata": {},
   "source": [
    "Once again, the residuals appear to depend on time:"
   ]
  },
  {
   "cell_type": "code",
   "execution_count": null,
   "metadata": {},
   "outputs": [],
   "source": [
    "StockModeler.plot_residuals(lm)"
   ]
  },
  {
   "cell_type": "markdown",
   "metadata": {},
   "source": [
    "### Compare Models Against Actuals\n",
    "We can look at the predictions made. ARIMA looks like this:"
   ]
  },
  {
   "cell_type": "code",
   "execution_count": null,
   "metadata": {},
   "outputs": [],
   "source": [
    "import datetime\n",
    "\n",
    "start = datetime.date(2019, 1, 1)\n",
    "end = datetime.date(2019, 1, 31)\n",
    "\n",
    "StockModeler.arima_predictions(\n",
    "    nflx, arima_model, start=start, end=end, title='ARIMA'\n",
    ")\n",
    "plt.ylabel('price')"
   ]
  },
  {
   "cell_type": "markdown",
   "metadata": {},
   "source": [
    "Let's see how these models compared to what actually happened:"
   ]
  },
  {
   "cell_type": "code",
   "execution_count": null,
   "metadata": {},
   "outputs": [],
   "source": [
    "jan_2019 = stock_analysis.StockReader(\n",
    "    start, end\n",
    ").get_ticker_data('NFLX')\n",
    "\n",
    "fig, axes = plt.subplots(1, 2, figsize=(15, 5))\n",
    "\n",
    "arima_ax = StockModeler.arima_predictions(\n",
    "    nflx, arima_model, start=start, end=end,\n",
    "    ax=axes[0], title='ARIMA'\n",
    ")\n",
    "jan_2019.close.plot(ax=arima_ax, style='b:', label='actual close')\n",
    "arima_ax.legend()\n",
    "arima_ax.set_ylabel('price ($)')\n",
    "\n",
    "linear_reg = StockModeler.regression_predictions(\n",
    "    nflx, lm, start=start, end=end,\n",
    "    ax=axes[1], title='Linear Regression'\n",
    ")\n",
    "jan_2019.close.plot(ax=linear_reg, style='b:', label='actual close')\n",
    "linear_reg.legend()\n",
    "linear_reg.set_ylabel('price ($)')"
   ]
  },
  {
   "cell_type": "markdown",
   "metadata": {},
   "source": [
    "### Random Walks\n",
    "Prediction is difficult due to randomness. Stock price can be modeled like a [random walk](https://en.wikipedia.org/wiki/Random_walk). Can you find the real stock data? \n",
    "\n",
    "*Note: To get different results, pass in a number to the `seed` argument.*"
   ]
  },
  {
   "cell_type": "code",
   "execution_count": null,
   "metadata": {},
   "outputs": [],
   "source": [
    "from random_walk import random_walk_stock_comparison\n",
    "\n",
    "real_stock, axes = random_walk_stock_comparison(aapl['2017'], probs=[0.45, 0.55])\n",
    "axes"
   ]
  },
  {
   "cell_type": "markdown",
   "metadata": {},
   "source": [
    "Was your guess correct?"
   ]
  },
  {
   "cell_type": "code",
   "execution_count": null,
   "metadata": {},
   "outputs": [],
   "source": [
    "real_stock"
   ]
  }
 ],
 "metadata": {
  "kernelspec": {
   "display_name": "Python 3",
   "language": "python",
   "name": "python3"
  },
  "language_info": {
   "codemirror_mode": {
    "name": "ipython",
    "version": 3
   },
   "file_extension": ".py",
   "mimetype": "text/x-python",
   "name": "python",
   "nbconvert_exporter": "python",
   "pygments_lexer": "ipython3",
   "version": "3.7.3"
  }
 },
 "nbformat": 4,
 "nbformat_minor": 2
}
